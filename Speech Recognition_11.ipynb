{
 "cells": [
  {
   "cell_type": "markdown",
   "id": "7550ec40-e7b5-46c5-87ff-70e28d7a0666",
   "metadata": {},
   "source": [
    "Speech Recognition\n",
    "Out of 11 different NLP applications given for assignment, we have chosen Speech Recognition for our assignment.\n",
    "In this assignment, we have worked on speech recognition on both recorded data and live data."
   ]
  },
  {
   "cell_type": "markdown",
   "id": "752c0a09-06b3-4354-96fe-9436920253d9",
   "metadata": {},
   "source": [
    "Basic introduction on how speech recognition works.\n",
    "-> Speech is the first element of speech recognition. A microphone is needed to convert speech from physical sound to an electrical signal, which is then converted to digital data using an analog-to-digital converter. Several models can be used to convert audio to text once it has been digitised.\n",
    "Speech recognition works by capturing spoken audio, preprocessing it to remove noise, extracting features like frequency patterns, then using    statistical models to map these features to words or phrases. Acoustic and language models help decode the audio into text, which is the final output."
   ]
  },
  {
   "cell_type": "markdown",
   "id": "2ca12def-fcd2-4cf6-9837-b6026d3a7f9f",
   "metadata": {},
   "source": [
    "Dataset:\n",
    "-> For working on speech recognition on recorded data, we have used series of recorded audio clip of arabic voice and audio clip is converted into text and also translated to english.\n",
    "link: https://github.com/common-voice/cv-dataset/tree/main/datasets.\n",
    "We have also recorded some clips in arabian language to test the code as we weren't able to get appropriate dataset."
   ]
  },
  {
   "cell_type": "markdown",
   "id": "250830e3-8528-4ca1-bee9-9b763ff7d978",
   "metadata": {},
   "source": [
    "Speech Recognition in recorded data"
   ]
  },
  {
   "cell_type": "markdown",
   "id": "b0fc58e6-5c3b-4561-a0c9-32b464292d71",
   "metadata": {},
   "source": [
    "googletrans is a Python library that provides a simple interface to the Google Translate API."
   ]
  },
  {
   "cell_type": "code",
   "execution_count": 1,
   "id": "3becd8ab-ffa9-4eb7-95f2-4d9c0130d5ae",
   "metadata": {},
   "outputs": [
    {
     "name": "stdout",
     "output_type": "stream",
     "text": [
      "Requirement already satisfied: googletrans==4.0.0-rc1 in c:\\users\\sonuyesh\\anaconda3\\lib\\site-packages (4.0.0rc1)\n",
      "Requirement already satisfied: httpx==0.13.3 in c:\\users\\sonuyesh\\anaconda3\\lib\\site-packages (from googletrans==4.0.0-rc1) (0.13.3)\n",
      "Requirement already satisfied: certifi in c:\\users\\sonuyesh\\anaconda3\\lib\\site-packages (from httpx==0.13.3->googletrans==4.0.0-rc1) (2024.2.2)\n",
      "Requirement already satisfied: hstspreload in c:\\users\\sonuyesh\\anaconda3\\lib\\site-packages (from httpx==0.13.3->googletrans==4.0.0-rc1) (2024.3.1)\n",
      "Requirement already satisfied: sniffio in c:\\users\\sonuyesh\\anaconda3\\lib\\site-packages (from httpx==0.13.3->googletrans==4.0.0-rc1) (1.3.0)\n",
      "Requirement already satisfied: chardet==3.* in c:\\users\\sonuyesh\\anaconda3\\lib\\site-packages (from httpx==0.13.3->googletrans==4.0.0-rc1) (3.0.4)\n",
      "Requirement already satisfied: idna==2.* in c:\\users\\sonuyesh\\anaconda3\\lib\\site-packages (from httpx==0.13.3->googletrans==4.0.0-rc1) (2.10)\n",
      "Requirement already satisfied: rfc3986<2,>=1.3 in c:\\users\\sonuyesh\\anaconda3\\lib\\site-packages (from httpx==0.13.3->googletrans==4.0.0-rc1) (1.5.0)\n",
      "Requirement already satisfied: httpcore==0.9.* in c:\\users\\sonuyesh\\anaconda3\\lib\\site-packages (from httpx==0.13.3->googletrans==4.0.0-rc1) (0.9.1)\n",
      "Requirement already satisfied: h11<0.10,>=0.8 in c:\\users\\sonuyesh\\anaconda3\\lib\\site-packages (from httpcore==0.9.*->httpx==0.13.3->googletrans==4.0.0-rc1) (0.9.0)\n",
      "Requirement already satisfied: h2==3.* in c:\\users\\sonuyesh\\anaconda3\\lib\\site-packages (from httpcore==0.9.*->httpx==0.13.3->googletrans==4.0.0-rc1) (3.2.0)\n",
      "Requirement already satisfied: hyperframe<6,>=5.2.0 in c:\\users\\sonuyesh\\anaconda3\\lib\\site-packages (from h2==3.*->httpcore==0.9.*->httpx==0.13.3->googletrans==4.0.0-rc1) (5.2.0)\n",
      "Requirement already satisfied: hpack<4,>=3.0 in c:\\users\\sonuyesh\\anaconda3\\lib\\site-packages (from h2==3.*->httpcore==0.9.*->httpx==0.13.3->googletrans==4.0.0-rc1) (3.0.0)\n",
      "Note: you may need to restart the kernel to use updated packages.\n"
     ]
    },
    {
     "name": "stderr",
     "output_type": "stream",
     "text": [
      "Error processing line 3 of C:\\Users\\Sonuyesh\\anaconda3\\lib\\site-packages\\googleapis_common_protos-1.61.0-py3.9-nspkg.pth:\n",
      "\n",
      "  Traceback (most recent call last):\n",
      "    File \"C:\\Users\\Sonuyesh\\anaconda3\\lib\\site.py\", line 169, in addpackage\n",
      "      exec(line)\n",
      "    File \"<string>\", line 1, in <module>\n",
      "    File \"<frozen importlib._bootstrap>\", line 562, in module_from_spec\n",
      "  AttributeError: 'NoneType' object has no attribute 'loader'\n",
      "\n",
      "Remainder of file ignored\n",
      "WARNING: Ignoring invalid distribution -umpy (c:\\users\\sonuyesh\\anaconda3\\lib\\site-packages)\n",
      "WARNING: Ignoring invalid distribution -umpy (c:\\users\\sonuyesh\\anaconda3\\lib\\site-packages)\n"
     ]
    }
   ],
   "source": [
    "pip install googletrans==4.0.0-rc1"
   ]
  },
  {
   "cell_type": "code",
   "execution_count": 2,
   "id": "a17ddd5c-dc3d-478a-ab36-2eed5ba777a9",
   "metadata": {},
   "outputs": [],
   "source": [
    "#SpeechRecognition provides an interface to several speech recognition APIs.\n",
    "import speech_recognition as sr\n",
    "from googletrans import Translator"
   ]
  },
  {
   "cell_type": "code",
   "execution_count": 3,
   "id": "e7db0005-6bc1-4ea5-806b-28ef49621e86",
   "metadata": {},
   "outputs": [],
   "source": [
    "# Initialize the speech recognizer\n",
    "recognizer = sr.Recognizer()\n",
    "#The primary purpose of a Recognizer instance is, of course, to recognize speech. Each instance comes with a variety of\n",
    "#settings and functionality for recognizing speech from an audio source."
   ]
  },
  {
   "cell_type": "code",
   "execution_count": 4,
   "id": "7a66dd27-eca4-4e72-9d5c-0bb1b99b39b1",
   "metadata": {},
   "outputs": [],
   "source": [
    "# Function to transcribe speech\n",
    "def transcribe_audio(audio_file):\n",
    "    with sr.AudioFile(audio_file) as source:\n",
    "        audio_data = recognizer.record(source)  # Record the audio file\n",
    "        try:\n",
    "            text = recognizer.recognize_google(audio_data, language='ar')  # Recognize Arabic speech\n",
    "            return text\n",
    "        except sr.UnknownValueError:\n",
    "            print(\"Speech recognition could not understand the audio\")\n",
    "            return None\n",
    "        except sr.RequestError as e:\n",
    "            print(\"Could not request results from Google Speech Recognition service; {0}\".format(e))\n",
    "            return None\n"
   ]
  },
  {
   "cell_type": "code",
   "execution_count": 5,
   "id": "4d342dee-1b29-46dd-871d-2d2db7603dff",
   "metadata": {},
   "outputs": [],
   "source": [
    "# Function to translate text\n",
    "def translate_text(text):\n",
    "    translator = Translator()\n",
    "    translated_text = translator.translate(text, src='ar', dest='en')  # Translate Arabic text to English\n",
    "    return translated_text.text"
   ]
  },
  {
   "cell_type": "code",
   "execution_count": 7,
   "id": "3d079c49-c43f-4602-88bf-a3bd2465c5d3",
   "metadata": {},
   "outputs": [],
   "source": [
    "import os"
   ]
  },
  {
   "cell_type": "code",
   "execution_count": 8,
   "id": "cb85e076-161a-4537-bb97-d42b732896fe",
   "metadata": {},
   "outputs": [
    {
     "name": "stdout",
     "output_type": "stream",
     "text": [
      "Audio file: 1.wav\n",
      "Transcribed Arabic text: اعجبني\n",
      "Translated English text: Like\n",
      "\n",
      "Audio file: 2.wav\n",
      "Transcribed Arabic text: اهلا بك اهلا بك\n",
      "Translated English text: Welcome, welcome\n",
      "\n",
      "Audio file: 3.wav\n",
      "Transcribed Arabic text: كيف حالك يا اخي الحمد لله بخير كيف حالك انت الحمد لله انا بخير ممكن ان نتعرف ممكن\n",
      "Translated English text: How are you, my brother. Praise be to God. How are you?\n",
      "\n",
      "Audio file: 4.wav\n",
      "Transcribed Arabic text: اسمحوا لي ان ادعو ضيف الدوله الامارات العربيه المتحده العزيزه سمو الاميره اميره الطويل الامين العام ونائب رئيس مؤسسه مؤسسه الوليد بن طلال الخيريه فلتتفضل مشكوره لالقاء كلمتها بهذه المناسبه\n",
      "Translated English text: Allow me to invite the guest of the United Arab Emirates State, His Highness Princess Princess Al -Tawil, Secretary -General and Vice President of the Founder of Al -Walid bin Talal Charitable\n",
      "\n",
      "Audio file: 5.wav\n",
      "Transcribed Arabic text: بسم الله الرحمن الرحيم والصلاه والسلام على اشرف الانبياء والمرسلين نبينا محمد وعلى اله وصحبه اجمعين قبل تواجدي معكم اليوم اتشرف بوجودي في يعني مكان\n",
      "Translated English text: In the name of God, the Most Gracious, the Most Merciful.\n",
      "\n",
      "Audio file: 6.wav\n",
      "Transcribed Arabic text: انا من تركيا وهل انت\n",
      "Translated English text: I am from Türkiye and are you?\n",
      "\n",
      "Audio file: 7.wav\n",
      "Transcribed Arabic text: عمري 29 عاما ما شاء الله\n",
      "Translated English text: I am 29 years old, God willing\n",
      "\n",
      "Audio file: 8.wav\n",
      "Transcribed Arabic text: انا اسكن في مدينه اسطنبول\n",
      "Translated English text: I live in Istanbul\n",
      "\n"
     ]
    }
   ],
   "source": [
    "\n",
    "# Define the directory containing the audio files\n",
    "dataset_folder = 'dataset1/'\n",
    "\n",
    "# Create an empty dictionary to store audio data\n",
    "audio_data = {}\n",
    "\n",
    "# Get a list of all WAV files in the dataset folder\n",
    "audio_files = [file for file in os.listdir(dataset_folder)] #if file.endswith('.WAV')]\n",
    "\n",
    "# Assuming transcribe_audio() transcribes each audio file and returns the transcribed text\n",
    "transcribed_texts = {}\n",
    "for audio_file in audio_files:\n",
    "    transcribed_texts[audio_file] = transcribe_audio(os.path.join(dataset_folder, audio_file))\n",
    "\n",
    "# Assuming translate_text() translates text from Arabic to English\n",
    "translated_texts = {}\n",
    "for audio_file, transcribed_text in transcribed_texts.items():\n",
    "    if transcribed_text:\n",
    "        translated_texts[audio_file] = translate_text(transcribed_text)\n",
    "\n",
    "# Print transcribed and translated texts\n",
    "for audio_file, transcribed_text in transcribed_texts.items():\n",
    "    if audio_file in translated_texts:\n",
    "        print(\"Audio file:\", audio_file)\n",
    "        print(\"Transcribed Arabic text:\", transcribed_text)\n",
    "        print(\"Translated English text:\", translated_texts[audio_file])\n",
    "        print()\n"
   ]
  },
  {
   "cell_type": "markdown",
   "id": "39fcefa1-edcd-4b51-8165-6513b5e7a3dc",
   "metadata": {},
   "source": [
    "Speech recognition on live audio"
   ]
  },
  {
   "cell_type": "code",
   "execution_count": 9,
   "id": "eea19ba4-f6e1-4dc5-8559-88aae9601cfc",
   "metadata": {},
   "outputs": [],
   "source": [
    "#Sounddevice library provides bindings to PortAudio, a cross-platform audio input/output library. It allows you to play and record audio with Python."
   ]
  },
  {
   "cell_type": "code",
   "execution_count": 10,
   "id": "d2410fcf-bfe8-4494-bbbc-bf41acbeb020",
   "metadata": {},
   "outputs": [
    {
     "name": "stdout",
     "output_type": "stream",
     "text": [
      "Requirement already satisfied: SpeechRecognition in c:\\users\\sonuyesh\\anaconda3\\lib\\site-packages (3.10.1)\n",
      "Requirement already satisfied: sounddevice in c:\\users\\sonuyesh\\anaconda3\\lib\\site-packages (0.4.6)\n",
      "Requirement already satisfied: requests>=2.26.0 in c:\\users\\sonuyesh\\anaconda3\\lib\\site-packages (from SpeechRecognition) (2.31.0)\n",
      "Requirement already satisfied: typing-extensions in c:\\users\\sonuyesh\\anaconda3\\lib\\site-packages (from SpeechRecognition) (4.9.0)\n",
      "Requirement already satisfied: CFFI>=1.0 in c:\\users\\sonuyesh\\anaconda3\\lib\\site-packages (from sounddevice) (1.16.0)\n",
      "Requirement already satisfied: pycparser in c:\\users\\sonuyesh\\anaconda3\\lib\\site-packages (from CFFI>=1.0->sounddevice) (2.21)\n",
      "Requirement already satisfied: charset-normalizer<4,>=2 in c:\\users\\sonuyesh\\anaconda3\\lib\\site-packages (from requests>=2.26.0->SpeechRecognition) (2.0.4)\n",
      "Requirement already satisfied: idna<4,>=2.5 in c:\\users\\sonuyesh\\anaconda3\\lib\\site-packages (from requests>=2.26.0->SpeechRecognition) (2.10)\n",
      "Requirement already satisfied: urllib3<3,>=1.21.1 in c:\\users\\sonuyesh\\anaconda3\\lib\\site-packages (from requests>=2.26.0->SpeechRecognition) (1.26.18)\n",
      "Requirement already satisfied: certifi>=2017.4.17 in c:\\users\\sonuyesh\\anaconda3\\lib\\site-packages (from requests>=2.26.0->SpeechRecognition) (2024.2.2)\n",
      "Note: you may need to restart the kernel to use updated packages.\n"
     ]
    },
    {
     "name": "stderr",
     "output_type": "stream",
     "text": [
      "Error processing line 3 of C:\\Users\\Sonuyesh\\anaconda3\\lib\\site-packages\\googleapis_common_protos-1.61.0-py3.9-nspkg.pth:\n",
      "\n",
      "  Traceback (most recent call last):\n",
      "    File \"C:\\Users\\Sonuyesh\\anaconda3\\lib\\site.py\", line 169, in addpackage\n",
      "      exec(line)\n",
      "    File \"<string>\", line 1, in <module>\n",
      "    File \"<frozen importlib._bootstrap>\", line 562, in module_from_spec\n",
      "  AttributeError: 'NoneType' object has no attribute 'loader'\n",
      "\n",
      "Remainder of file ignored\n",
      "WARNING: Ignoring invalid distribution -umpy (c:\\users\\sonuyesh\\anaconda3\\lib\\site-packages)\n",
      "WARNING: Ignoring invalid distribution -umpy (c:\\users\\sonuyesh\\anaconda3\\lib\\site-packages)\n"
     ]
    }
   ],
   "source": [
    "pip install SpeechRecognition sounddevice"
   ]
  },
  {
   "cell_type": "code",
   "execution_count": 2,
   "id": "fcf6ea0c-a25e-4cfc-a008-80ac179b10eb",
   "metadata": {},
   "outputs": [
    {
     "name": "stdout",
     "output_type": "stream",
     "text": [
      "Recording...\n",
      "Speech recognized:  this part will recognize English\n"
     ]
    }
   ],
   "source": [
    "import sounddevice as sd\n",
    "import speech_recognition as sr\n",
    "#The primary purpose of a Recognizer instance is, of course, to recognize speech. Each instance comes with a variety of \n",
    "#settings and functionality for recognizing speech from an audio source.\n",
    "\n",
    "# Function to record audio\n",
    "def record_audio():\n",
    "    duration = 5  # Adjust the duration as needed\n",
    "    sample_rate = 44100  # Adjust the sample rate as needed\n",
    "    print(\"Recording...\")\n",
    "    audio = sd.rec(int(duration * sample_rate), samplerate=sample_rate, channels=1, dtype='int16')\n",
    "    sd.wait()\n",
    "    return audio, sample_rate\n",
    "\n",
    "# Function to recognize speech\n",
    "def recognize_speech(audio, sample_rate):\n",
    "    recognizer = sr.Recognizer()\n",
    "    audio_data = sr.AudioData(audio.tobytes(), sample_rate=sample_rate, sample_width=2)  # sample_width should be 2 for int16\n",
    "    try:\n",
    "        text = recognizer.recognize_google(audio_data)\n",
    "        print(\"Speech recognized: \", text)\n",
    "    except sr.UnknownValueError:\n",
    "        print(\"Could not understand audio\")\n",
    "    except sr.RequestError as e:\n",
    "        print(\"Could not request results; {0}\".format(e))\n",
    "\n",
    "# Record audio\n",
    "audio, sample_rate = record_audio()\n",
    "\n",
    "# Recognize speech\n",
    "recognize_speech(audio, sample_rate)"
   ]
  },
  {
   "cell_type": "markdown",
   "id": "5fc4f057-561b-47c4-80ff-6096ffbac29b",
   "metadata": {},
   "source": [
    "References: https://realpython.com/python-speech-recognition/\n",
    "https://realpython.com/python-speech-recognition/#how-speech-recognition-works-an-overview\n"
   ]
  },
  {
   "cell_type": "code",
   "execution_count": null,
   "id": "97e9f579-c3a7-4231-b2d3-9ff8f86128d3",
   "metadata": {},
   "outputs": [],
   "source": []
  }
 ],
 "metadata": {
  "kernelspec": {
   "display_name": "Python 3 (ipykernel)",
   "language": "python",
   "name": "python3"
  },
  "language_info": {
   "codemirror_mode": {
    "name": "ipython",
    "version": 3
   },
   "file_extension": ".py",
   "mimetype": "text/x-python",
   "name": "python",
   "nbconvert_exporter": "python",
   "pygments_lexer": "ipython3",
   "version": "3.9.12"
  }
 },
 "nbformat": 4,
 "nbformat_minor": 5
}
