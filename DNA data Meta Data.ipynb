{
 "cells": [
  {
   "cell_type": "markdown",
   "metadata": {},
   "source": [
    "Purpose of the Project\n",
    "- The purpose of this project is to investigate the role of epigenetic alterations, particularly DNA methylation (DNAm), in the aging process and its   implications for healthspan and disease susceptibility. By analyzing DNAm patterns across different age groups and correlating them with biological aging, we aim to identify specific CpG sites that serve as reliable biomarkers of aging. This research will deepen our understanding of the molecular mechanisms underlying aging, potentially revealing new targets for therapeutic interventions aimed at slowing down the aging process and promoting healthy aging. Ultimately, this project seeks to contribute to the development of personalized approaches to healthcare that take into account individuals' biological age and genetic predispositions for age-related diseases."
   ]
  },
  {
   "cell_type": "code",
   "execution_count": 8,
   "metadata": {
    "id": "kjiaMauOrLop"
   },
   "outputs": [],
   "source": [
    "import pickle\n",
    "import matplotlib.pyplot as plt\n",
    "import seaborn as sns"
   ]
  },
  {
   "cell_type": "markdown",
   "metadata": {
    "id": "eCaA2cCVl_wP"
   },
   "source": [
    "# Load DNAm data\n"
   ]
  },
  {
   "cell_type": "code",
   "execution_count": 9,
   "metadata": {
    "colab": {
     "base_uri": "https://localhost:8080/"
    },
    "id": "MS_gKk4Bb_dx",
    "outputId": "bea9e9c6-a2a4-45c7-ded1-732cf46a2533"
   },
   "outputs": [
    {
     "name": "stdout",
     "output_type": "stream",
     "text": [
      "DNA data successfully loaded!\n"
     ]
    }
   ],
   "source": [
    "import pickle\n",
    "\n",
    "# Specify the file path\n",
    "file_path = 'GSE42861.pkl'\n",
    "\n",
    "# Load pickled data\n",
    "try:\n",
    "    with open(file_path, 'rb') as infile:\n",
    "        DNA_data = pickle.load(infile)\n",
    "        print(\"DNA data successfully loaded!\")\n",
    "except FileNotFoundError:\n",
    "    print(f\"Error: File '{file_path}' not found.\")\n",
    "except pickle.UnpicklingError as e:\n",
    "    print(f\"Error: Unable to unpickle data - {e}\")\n",
    "except Exception as e:\n",
    "    print(f\"An error occurred: {e}\")\n"
   ]
  },
  {
   "cell_type": "code",
   "execution_count": 10,
   "metadata": {
    "colab": {
     "base_uri": "https://localhost:8080/",
     "height": 161
    },
    "id": "AuCiRSzkcTcn",
    "outputId": "536200fb-7267-49b3-9ac4-de8dbdf52f0c"
   },
   "outputs": [
    {
     "data": {
      "application/vnd.google.colaboratory.intrinsic+json": {
       "type": "dataframe",
       "variable_name": "DNA_data"
      },
      "text/html": [
       "\n",
       "  <div id=\"df-890fcca9-ba43-4c31-9aa4-ed5c2a915963\" class=\"colab-df-container\">\n",
       "    <div>\n",
       "<style scoped>\n",
       "    .dataframe tbody tr th:only-of-type {\n",
       "        vertical-align: middle;\n",
       "    }\n",
       "\n",
       "    .dataframe tbody tr th {\n",
       "        vertical-align: top;\n",
       "    }\n",
       "\n",
       "    .dataframe thead th {\n",
       "        text-align: right;\n",
       "    }\n",
       "</style>\n",
       "<table border=\"1\" class=\"dataframe\">\n",
       "  <thead>\n",
       "    <tr style=\"text-align: right;\">\n",
       "      <th></th>\n",
       "      <th>dataset</th>\n",
       "      <th>age</th>\n",
       "      <th>gender</th>\n",
       "      <th>cg04601137</th>\n",
       "      <th>cg10064162</th>\n",
       "      <th>cg17559549</th>\n",
       "      <th>cg12441964</th>\n",
       "      <th>cg21493583</th>\n",
       "      <th>cg27318546</th>\n",
       "      <th>cg14156381</th>\n",
       "      <th>...</th>\n",
       "      <th>cg06291595</th>\n",
       "      <th>cg06521852</th>\n",
       "      <th>cg24024214</th>\n",
       "      <th>cg25148589</th>\n",
       "      <th>cg20692181</th>\n",
       "      <th>cg21207436</th>\n",
       "      <th>cg15299721</th>\n",
       "      <th>cg00884221</th>\n",
       "      <th>cg27638672</th>\n",
       "      <th>cg05593325</th>\n",
       "    </tr>\n",
       "  </thead>\n",
       "  <tbody>\n",
       "    <tr>\n",
       "      <th>GSM1051525</th>\n",
       "      <td>GSE42861</td>\n",
       "      <td>67.0</td>\n",
       "      <td>F</td>\n",
       "      <td>0.34637</td>\n",
       "      <td>0.177525</td>\n",
       "      <td>0.073021</td>\n",
       "      <td>0.818903</td>\n",
       "      <td>0.167119</td>\n",
       "      <td>0.096741</td>\n",
       "      <td>0.431846</td>\n",
       "      <td>...</td>\n",
       "      <td>0.121812</td>\n",
       "      <td>0.204383</td>\n",
       "      <td>0.867147</td>\n",
       "      <td>0.235479</td>\n",
       "      <td>0.836472</td>\n",
       "      <td>0.793045</td>\n",
       "      <td>0.067196</td>\n",
       "      <td>0.072223</td>\n",
       "      <td>0.083744</td>\n",
       "      <td>0.265790</td>\n",
       "    </tr>\n",
       "    <tr>\n",
       "      <th>GSM1051526</th>\n",
       "      <td>GSE42861</td>\n",
       "      <td>49.0</td>\n",
       "      <td>F</td>\n",
       "      <td>0.36717</td>\n",
       "      <td>0.183482</td>\n",
       "      <td>0.084641</td>\n",
       "      <td>0.850975</td>\n",
       "      <td>0.251110</td>\n",
       "      <td>0.074172</td>\n",
       "      <td>0.456439</td>\n",
       "      <td>...</td>\n",
       "      <td>0.100869</td>\n",
       "      <td>0.197570</td>\n",
       "      <td>0.865686</td>\n",
       "      <td>0.230336</td>\n",
       "      <td>0.858362</td>\n",
       "      <td>0.798864</td>\n",
       "      <td>0.072268</td>\n",
       "      <td>0.069718</td>\n",
       "      <td>0.096331</td>\n",
       "      <td>0.283381</td>\n",
       "    </tr>\n",
       "  </tbody>\n",
       "</table>\n",
       "<p>2 rows × 18613 columns</p>\n",
       "</div>\n",
       "    <div class=\"colab-df-buttons\">\n",
       "\n",
       "  <div class=\"colab-df-container\">\n",
       "    <button class=\"colab-df-convert\" onclick=\"convertToInteractive('df-890fcca9-ba43-4c31-9aa4-ed5c2a915963')\"\n",
       "            title=\"Convert this dataframe to an interactive table.\"\n",
       "            style=\"display:none;\">\n",
       "\n",
       "  <svg xmlns=\"http://www.w3.org/2000/svg\" height=\"24px\" viewBox=\"0 -960 960 960\">\n",
       "    <path d=\"M120-120v-720h720v720H120Zm60-500h600v-160H180v160Zm220 220h160v-160H400v160Zm0 220h160v-160H400v160ZM180-400h160v-160H180v160Zm440 0h160v-160H620v160ZM180-180h160v-160H180v160Zm440 0h160v-160H620v160Z\"/>\n",
       "  </svg>\n",
       "    </button>\n",
       "\n",
       "  <style>\n",
       "    .colab-df-container {\n",
       "      display:flex;\n",
       "      gap: 12px;\n",
       "    }\n",
       "\n",
       "    .colab-df-convert {\n",
       "      background-color: #E8F0FE;\n",
       "      border: none;\n",
       "      border-radius: 50%;\n",
       "      cursor: pointer;\n",
       "      display: none;\n",
       "      fill: #1967D2;\n",
       "      height: 32px;\n",
       "      padding: 0 0 0 0;\n",
       "      width: 32px;\n",
       "    }\n",
       "\n",
       "    .colab-df-convert:hover {\n",
       "      background-color: #E2EBFA;\n",
       "      box-shadow: 0px 1px 2px rgba(60, 64, 67, 0.3), 0px 1px 3px 1px rgba(60, 64, 67, 0.15);\n",
       "      fill: #174EA6;\n",
       "    }\n",
       "\n",
       "    .colab-df-buttons div {\n",
       "      margin-bottom: 4px;\n",
       "    }\n",
       "\n",
       "    [theme=dark] .colab-df-convert {\n",
       "      background-color: #3B4455;\n",
       "      fill: #D2E3FC;\n",
       "    }\n",
       "\n",
       "    [theme=dark] .colab-df-convert:hover {\n",
       "      background-color: #434B5C;\n",
       "      box-shadow: 0px 1px 3px 1px rgba(0, 0, 0, 0.15);\n",
       "      filter: drop-shadow(0px 1px 2px rgba(0, 0, 0, 0.3));\n",
       "      fill: #FFFFFF;\n",
       "    }\n",
       "  </style>\n",
       "\n",
       "    <script>\n",
       "      const buttonEl =\n",
       "        document.querySelector('#df-890fcca9-ba43-4c31-9aa4-ed5c2a915963 button.colab-df-convert');\n",
       "      buttonEl.style.display =\n",
       "        google.colab.kernel.accessAllowed ? 'block' : 'none';\n",
       "\n",
       "      async function convertToInteractive(key) {\n",
       "        const element = document.querySelector('#df-890fcca9-ba43-4c31-9aa4-ed5c2a915963');\n",
       "        const dataTable =\n",
       "          await google.colab.kernel.invokeFunction('convertToInteractive',\n",
       "                                                    [key], {});\n",
       "        if (!dataTable) return;\n",
       "\n",
       "        const docLinkHtml = 'Like what you see? Visit the ' +\n",
       "          '<a target=\"_blank\" href=https://colab.research.google.com/notebooks/data_table.ipynb>data table notebook</a>'\n",
       "          + ' to learn more about interactive tables.';\n",
       "        element.innerHTML = '';\n",
       "        dataTable['output_type'] = 'display_data';\n",
       "        await google.colab.output.renderOutput(dataTable, element);\n",
       "        const docLink = document.createElement('div');\n",
       "        docLink.innerHTML = docLinkHtml;\n",
       "        element.appendChild(docLink);\n",
       "      }\n",
       "    </script>\n",
       "  </div>\n",
       "\n",
       "\n",
       "<div id=\"df-157c5e67-b6f8-4f3e-82f0-d8f9b20c4bbb\">\n",
       "  <button class=\"colab-df-quickchart\" onclick=\"quickchart('df-157c5e67-b6f8-4f3e-82f0-d8f9b20c4bbb')\"\n",
       "            title=\"Suggest charts\"\n",
       "            style=\"display:none;\">\n",
       "\n",
       "<svg xmlns=\"http://www.w3.org/2000/svg\" height=\"24px\"viewBox=\"0 0 24 24\"\n",
       "     width=\"24px\">\n",
       "    <g>\n",
       "        <path d=\"M19 3H5c-1.1 0-2 .9-2 2v14c0 1.1.9 2 2 2h14c1.1 0 2-.9 2-2V5c0-1.1-.9-2-2-2zM9 17H7v-7h2v7zm4 0h-2V7h2v10zm4 0h-2v-4h2v4z\"/>\n",
       "    </g>\n",
       "</svg>\n",
       "  </button>\n",
       "\n",
       "<style>\n",
       "  .colab-df-quickchart {\n",
       "      --bg-color: #E8F0FE;\n",
       "      --fill-color: #1967D2;\n",
       "      --hover-bg-color: #E2EBFA;\n",
       "      --hover-fill-color: #174EA6;\n",
       "      --disabled-fill-color: #AAA;\n",
       "      --disabled-bg-color: #DDD;\n",
       "  }\n",
       "\n",
       "  [theme=dark] .colab-df-quickchart {\n",
       "      --bg-color: #3B4455;\n",
       "      --fill-color: #D2E3FC;\n",
       "      --hover-bg-color: #434B5C;\n",
       "      --hover-fill-color: #FFFFFF;\n",
       "      --disabled-bg-color: #3B4455;\n",
       "      --disabled-fill-color: #666;\n",
       "  }\n",
       "\n",
       "  .colab-df-quickchart {\n",
       "    background-color: var(--bg-color);\n",
       "    border: none;\n",
       "    border-radius: 50%;\n",
       "    cursor: pointer;\n",
       "    display: none;\n",
       "    fill: var(--fill-color);\n",
       "    height: 32px;\n",
       "    padding: 0;\n",
       "    width: 32px;\n",
       "  }\n",
       "\n",
       "  .colab-df-quickchart:hover {\n",
       "    background-color: var(--hover-bg-color);\n",
       "    box-shadow: 0 1px 2px rgba(60, 64, 67, 0.3), 0 1px 3px 1px rgba(60, 64, 67, 0.15);\n",
       "    fill: var(--button-hover-fill-color);\n",
       "  }\n",
       "\n",
       "  .colab-df-quickchart-complete:disabled,\n",
       "  .colab-df-quickchart-complete:disabled:hover {\n",
       "    background-color: var(--disabled-bg-color);\n",
       "    fill: var(--disabled-fill-color);\n",
       "    box-shadow: none;\n",
       "  }\n",
       "\n",
       "  .colab-df-spinner {\n",
       "    border: 2px solid var(--fill-color);\n",
       "    border-color: transparent;\n",
       "    border-bottom-color: var(--fill-color);\n",
       "    animation:\n",
       "      spin 1s steps(1) infinite;\n",
       "  }\n",
       "\n",
       "  @keyframes spin {\n",
       "    0% {\n",
       "      border-color: transparent;\n",
       "      border-bottom-color: var(--fill-color);\n",
       "      border-left-color: var(--fill-color);\n",
       "    }\n",
       "    20% {\n",
       "      border-color: transparent;\n",
       "      border-left-color: var(--fill-color);\n",
       "      border-top-color: var(--fill-color);\n",
       "    }\n",
       "    30% {\n",
       "      border-color: transparent;\n",
       "      border-left-color: var(--fill-color);\n",
       "      border-top-color: var(--fill-color);\n",
       "      border-right-color: var(--fill-color);\n",
       "    }\n",
       "    40% {\n",
       "      border-color: transparent;\n",
       "      border-right-color: var(--fill-color);\n",
       "      border-top-color: var(--fill-color);\n",
       "    }\n",
       "    60% {\n",
       "      border-color: transparent;\n",
       "      border-right-color: var(--fill-color);\n",
       "    }\n",
       "    80% {\n",
       "      border-color: transparent;\n",
       "      border-right-color: var(--fill-color);\n",
       "      border-bottom-color: var(--fill-color);\n",
       "    }\n",
       "    90% {\n",
       "      border-color: transparent;\n",
       "      border-bottom-color: var(--fill-color);\n",
       "    }\n",
       "  }\n",
       "</style>\n",
       "\n",
       "  <script>\n",
       "    async function quickchart(key) {\n",
       "      const quickchartButtonEl =\n",
       "        document.querySelector('#' + key + ' button');\n",
       "      quickchartButtonEl.disabled = true;  // To prevent multiple clicks.\n",
       "      quickchartButtonEl.classList.add('colab-df-spinner');\n",
       "      try {\n",
       "        const charts = await google.colab.kernel.invokeFunction(\n",
       "            'suggestCharts', [key], {});\n",
       "      } catch (error) {\n",
       "        console.error('Error during call to suggestCharts:', error);\n",
       "      }\n",
       "      quickchartButtonEl.classList.remove('colab-df-spinner');\n",
       "      quickchartButtonEl.classList.add('colab-df-quickchart-complete');\n",
       "    }\n",
       "    (() => {\n",
       "      let quickchartButtonEl =\n",
       "        document.querySelector('#df-157c5e67-b6f8-4f3e-82f0-d8f9b20c4bbb button');\n",
       "      quickchartButtonEl.style.display =\n",
       "        google.colab.kernel.accessAllowed ? 'block' : 'none';\n",
       "    })();\n",
       "  </script>\n",
       "</div>\n",
       "\n",
       "    </div>\n",
       "  </div>\n"
      ],
      "text/plain": [
       "             dataset   age gender  cg04601137  cg10064162  cg17559549  \\\n",
       "GSM1051525  GSE42861  67.0      F     0.34637    0.177525    0.073021   \n",
       "GSM1051526  GSE42861  49.0      F     0.36717    0.183482    0.084641   \n",
       "\n",
       "            cg12441964  cg21493583  cg27318546  cg14156381  ...  cg06291595  \\\n",
       "GSM1051525    0.818903    0.167119    0.096741    0.431846  ...    0.121812   \n",
       "GSM1051526    0.850975    0.251110    0.074172    0.456439  ...    0.100869   \n",
       "\n",
       "            cg06521852  cg24024214  cg25148589  cg20692181  cg21207436  \\\n",
       "GSM1051525    0.204383    0.867147    0.235479    0.836472    0.793045   \n",
       "GSM1051526    0.197570    0.865686    0.230336    0.858362    0.798864   \n",
       "\n",
       "            cg15299721  cg00884221  cg27638672  cg05593325  \n",
       "GSM1051525    0.067196    0.072223    0.083744    0.265790  \n",
       "GSM1051526    0.072268    0.069718    0.096331    0.283381  \n",
       "\n",
       "[2 rows x 18613 columns]"
      ]
     },
     "execution_count": 10,
     "metadata": {},
     "output_type": "execute_result"
    }
   ],
   "source": [
    "DNA_data.head(2)"
   ]
  },
  {
   "cell_type": "code",
   "execution_count": 11,
   "metadata": {
    "colab": {
     "base_uri": "https://localhost:8080/"
    },
    "id": "2-k_VEo9cXOt",
    "outputId": "96e27ec9-26ef-4adc-ea36-9647907d57b5"
   },
   "outputs": [
    {
     "data": {
      "text/plain": [
       "(689, 18613)"
      ]
     },
     "execution_count": 11,
     "metadata": {},
     "output_type": "execute_result"
    }
   ],
   "source": [
    "DNA_data.shape"
   ]
  },
  {
   "cell_type": "markdown",
   "metadata": {
    "id": "Q3ptSlA_mix-"
   },
   "source": [
    "# Load metadata\n",
    "## The metadata offers information for subject descriptions. You can utilize some features to enhance your model training."
   ]
  },
  {
   "cell_type": "code",
   "execution_count": 12,
   "metadata": {
    "colab": {
     "base_uri": "https://localhost:8080/"
    },
    "id": "SbwXSR45cZ75",
    "outputId": "d2994299-5abd-4f4c-c006-f8a8fadc3aba"
   },
   "outputs": [
    {
     "name": "stdout",
     "output_type": "stream",
     "text": [
      "DNA metadata successfully loaded!\n"
     ]
    }
   ],
   "source": [
    "import pickle\n",
    "\n",
    "# Specify the file path (adjust the file name if necessary)\n",
    "file_path = 'GSE42861_metadata_2023.pkl'\n",
    "\n",
    "# Load pickled data\n",
    "try:\n",
    "    with open(file_path, 'rb') as infile:\n",
    "        DNA_metadata = pickle.load(infile)\n",
    "        print(\"DNA metadata successfully loaded!\")\n",
    "except FileNotFoundError:\n",
    "    print(f\"Error: File '{file_path}' not found.\")\n",
    "except pickle.UnpicklingError as e:\n",
    "    print(f\"Error: Unable to unpickle data - {e}\")\n",
    "except Exception as e:\n",
    "    print(f\"An error occurred: {e}\")\n"
   ]
  },
  {
   "cell_type": "code",
   "execution_count": 13,
   "metadata": {
    "colab": {
     "base_uri": "https://localhost:8080/",
     "height": 363
    },
    "id": "YWCNyKdWcw6I",
    "outputId": "46aefa7a-e3f1-409b-c8ce-55d403b38ac8"
   },
   "outputs": [
    {
     "data": {
      "application/vnd.google.colaboratory.intrinsic+json": {
       "summary": "{\n  \"name\": \"DNA_metadata\",\n  \"rows\": 689,\n  \"fields\": [\n    {\n      \"column\": \"GEO Accession\",\n      \"properties\": {\n        \"dtype\": \"string\",\n        \"num_unique_values\": 689,\n        \"samples\": [\n          \"GSM1051811\",\n          \"GSM1052180\",\n          \"GSM1051782\"\n        ],\n        \"semantic_type\": \"\",\n        \"description\": \"\"\n      }\n    },\n    {\n      \"column\": \"Disease State\",\n      \"properties\": {\n        \"dtype\": \"category\",\n        \"num_unique_values\": 2,\n        \"samples\": [\n          \"Normal\",\n          \"rheumatoid arthritis\"\n        ],\n        \"semantic_type\": \"\",\n        \"description\": \"\"\n      }\n    },\n    {\n      \"column\": \"Subject\",\n      \"properties\": {\n        \"dtype\": \"category\",\n        \"num_unique_values\": 2,\n        \"samples\": [\n          \"Normal\",\n          \"Patient\"\n        ],\n        \"semantic_type\": \"\",\n        \"description\": \"\"\n      }\n    },\n    {\n      \"column\": \"Age\",\n      \"properties\": {\n        \"dtype\": \"category\",\n        \"num_unique_values\": 53,\n        \"samples\": [\n          \"54\",\n          \"46\"\n        ],\n        \"semantic_type\": \"\",\n        \"description\": \"\"\n      }\n    },\n    {\n      \"column\": \"Gender\",\n      \"properties\": {\n        \"dtype\": \"category\",\n        \"num_unique_values\": 2,\n        \"samples\": [\n          \"m\",\n          \"f\"\n        ],\n        \"semantic_type\": \"\",\n        \"description\": \"\"\n      }\n    },\n    {\n      \"column\": \"Smoking Status\",\n      \"properties\": {\n        \"dtype\": \"category\",\n        \"num_unique_values\": 5,\n        \"samples\": [\n          \"ex\",\n          \"occasional\"\n        ],\n        \"semantic_type\": \"\",\n        \"description\": \"\"\n      }\n    }\n  ]\n}",
       "type": "dataframe",
       "variable_name": "DNA_metadata"
      },
      "text/html": [
       "\n",
       "  <div id=\"df-4b99ad0a-455c-4457-be81-33aa97081d67\" class=\"colab-df-container\">\n",
       "    <div>\n",
       "<style scoped>\n",
       "    .dataframe tbody tr th:only-of-type {\n",
       "        vertical-align: middle;\n",
       "    }\n",
       "\n",
       "    .dataframe tbody tr th {\n",
       "        vertical-align: top;\n",
       "    }\n",
       "\n",
       "    .dataframe thead th {\n",
       "        text-align: right;\n",
       "    }\n",
       "</style>\n",
       "<table border=\"1\" class=\"dataframe\">\n",
       "  <thead>\n",
       "    <tr style=\"text-align: right;\">\n",
       "      <th></th>\n",
       "      <th>GEO Accession</th>\n",
       "      <th>Disease State</th>\n",
       "      <th>Subject</th>\n",
       "      <th>Age</th>\n",
       "      <th>Gender</th>\n",
       "      <th>Smoking Status</th>\n",
       "    </tr>\n",
       "  </thead>\n",
       "  <tbody>\n",
       "    <tr>\n",
       "      <th>GSM1051525</th>\n",
       "      <td>GSM1051525</td>\n",
       "      <td>rheumatoid arthritis</td>\n",
       "      <td>Patient</td>\n",
       "      <td>67</td>\n",
       "      <td>f</td>\n",
       "      <td>current</td>\n",
       "    </tr>\n",
       "    <tr>\n",
       "      <th>GSM1051526</th>\n",
       "      <td>GSM1051526</td>\n",
       "      <td>rheumatoid arthritis</td>\n",
       "      <td>Patient</td>\n",
       "      <td>49</td>\n",
       "      <td>f</td>\n",
       "      <td>current</td>\n",
       "    </tr>\n",
       "    <tr>\n",
       "      <th>GSM1051527</th>\n",
       "      <td>GSM1051527</td>\n",
       "      <td>rheumatoid arthritis</td>\n",
       "      <td>Patient</td>\n",
       "      <td>53</td>\n",
       "      <td>f</td>\n",
       "      <td>ex</td>\n",
       "    </tr>\n",
       "    <tr>\n",
       "      <th>GSM1051528</th>\n",
       "      <td>GSM1051528</td>\n",
       "      <td>rheumatoid arthritis</td>\n",
       "      <td>Patient</td>\n",
       "      <td>62</td>\n",
       "      <td>f</td>\n",
       "      <td>current</td>\n",
       "    </tr>\n",
       "    <tr>\n",
       "      <th>GSM1051529</th>\n",
       "      <td>GSM1051529</td>\n",
       "      <td>rheumatoid arthritis</td>\n",
       "      <td>Patient</td>\n",
       "      <td>33</td>\n",
       "      <td>f</td>\n",
       "      <td>never</td>\n",
       "    </tr>\n",
       "    <tr>\n",
       "      <th>GSM1051530</th>\n",
       "      <td>GSM1051530</td>\n",
       "      <td>rheumatoid arthritis</td>\n",
       "      <td>Patient</td>\n",
       "      <td>59</td>\n",
       "      <td>f</td>\n",
       "      <td>current</td>\n",
       "    </tr>\n",
       "    <tr>\n",
       "      <th>GSM1051531</th>\n",
       "      <td>GSM1051531</td>\n",
       "      <td>rheumatoid arthritis</td>\n",
       "      <td>Patient</td>\n",
       "      <td>66</td>\n",
       "      <td>f</td>\n",
       "      <td>never</td>\n",
       "    </tr>\n",
       "    <tr>\n",
       "      <th>GSM1051532</th>\n",
       "      <td>GSM1051532</td>\n",
       "      <td>rheumatoid arthritis</td>\n",
       "      <td>Patient</td>\n",
       "      <td>51</td>\n",
       "      <td>f</td>\n",
       "      <td>ex</td>\n",
       "    </tr>\n",
       "    <tr>\n",
       "      <th>GSM1051533</th>\n",
       "      <td>GSM1051533</td>\n",
       "      <td>Normal</td>\n",
       "      <td>Normal</td>\n",
       "      <td>55</td>\n",
       "      <td>m</td>\n",
       "      <td>current</td>\n",
       "    </tr>\n",
       "    <tr>\n",
       "      <th>GSM1051534</th>\n",
       "      <td>GSM1051534</td>\n",
       "      <td>Normal</td>\n",
       "      <td>Normal</td>\n",
       "      <td>37</td>\n",
       "      <td>m</td>\n",
       "      <td>never</td>\n",
       "    </tr>\n",
       "  </tbody>\n",
       "</table>\n",
       "</div>\n",
       "    <div class=\"colab-df-buttons\">\n",
       "\n",
       "  <div class=\"colab-df-container\">\n",
       "    <button class=\"colab-df-convert\" onclick=\"convertToInteractive('df-4b99ad0a-455c-4457-be81-33aa97081d67')\"\n",
       "            title=\"Convert this dataframe to an interactive table.\"\n",
       "            style=\"display:none;\">\n",
       "\n",
       "  <svg xmlns=\"http://www.w3.org/2000/svg\" height=\"24px\" viewBox=\"0 -960 960 960\">\n",
       "    <path d=\"M120-120v-720h720v720H120Zm60-500h600v-160H180v160Zm220 220h160v-160H400v160Zm0 220h160v-160H400v160ZM180-400h160v-160H180v160Zm440 0h160v-160H620v160ZM180-180h160v-160H180v160Zm440 0h160v-160H620v160Z\"/>\n",
       "  </svg>\n",
       "    </button>\n",
       "\n",
       "  <style>\n",
       "    .colab-df-container {\n",
       "      display:flex;\n",
       "      gap: 12px;\n",
       "    }\n",
       "\n",
       "    .colab-df-convert {\n",
       "      background-color: #E8F0FE;\n",
       "      border: none;\n",
       "      border-radius: 50%;\n",
       "      cursor: pointer;\n",
       "      display: none;\n",
       "      fill: #1967D2;\n",
       "      height: 32px;\n",
       "      padding: 0 0 0 0;\n",
       "      width: 32px;\n",
       "    }\n",
       "\n",
       "    .colab-df-convert:hover {\n",
       "      background-color: #E2EBFA;\n",
       "      box-shadow: 0px 1px 2px rgba(60, 64, 67, 0.3), 0px 1px 3px 1px rgba(60, 64, 67, 0.15);\n",
       "      fill: #174EA6;\n",
       "    }\n",
       "\n",
       "    .colab-df-buttons div {\n",
       "      margin-bottom: 4px;\n",
       "    }\n",
       "\n",
       "    [theme=dark] .colab-df-convert {\n",
       "      background-color: #3B4455;\n",
       "      fill: #D2E3FC;\n",
       "    }\n",
       "\n",
       "    [theme=dark] .colab-df-convert:hover {\n",
       "      background-color: #434B5C;\n",
       "      box-shadow: 0px 1px 3px 1px rgba(0, 0, 0, 0.15);\n",
       "      filter: drop-shadow(0px 1px 2px rgba(0, 0, 0, 0.3));\n",
       "      fill: #FFFFFF;\n",
       "    }\n",
       "  </style>\n",
       "\n",
       "    <script>\n",
       "      const buttonEl =\n",
       "        document.querySelector('#df-4b99ad0a-455c-4457-be81-33aa97081d67 button.colab-df-convert');\n",
       "      buttonEl.style.display =\n",
       "        google.colab.kernel.accessAllowed ? 'block' : 'none';\n",
       "\n",
       "      async function convertToInteractive(key) {\n",
       "        const element = document.querySelector('#df-4b99ad0a-455c-4457-be81-33aa97081d67');\n",
       "        const dataTable =\n",
       "          await google.colab.kernel.invokeFunction('convertToInteractive',\n",
       "                                                    [key], {});\n",
       "        if (!dataTable) return;\n",
       "\n",
       "        const docLinkHtml = 'Like what you see? Visit the ' +\n",
       "          '<a target=\"_blank\" href=https://colab.research.google.com/notebooks/data_table.ipynb>data table notebook</a>'\n",
       "          + ' to learn more about interactive tables.';\n",
       "        element.innerHTML = '';\n",
       "        dataTable['output_type'] = 'display_data';\n",
       "        await google.colab.output.renderOutput(dataTable, element);\n",
       "        const docLink = document.createElement('div');\n",
       "        docLink.innerHTML = docLinkHtml;\n",
       "        element.appendChild(docLink);\n",
       "      }\n",
       "    </script>\n",
       "  </div>\n",
       "\n",
       "\n",
       "<div id=\"df-87b201f4-9ecb-4563-a4e5-7440829e26b5\">\n",
       "  <button class=\"colab-df-quickchart\" onclick=\"quickchart('df-87b201f4-9ecb-4563-a4e5-7440829e26b5')\"\n",
       "            title=\"Suggest charts\"\n",
       "            style=\"display:none;\">\n",
       "\n",
       "<svg xmlns=\"http://www.w3.org/2000/svg\" height=\"24px\"viewBox=\"0 0 24 24\"\n",
       "     width=\"24px\">\n",
       "    <g>\n",
       "        <path d=\"M19 3H5c-1.1 0-2 .9-2 2v14c0 1.1.9 2 2 2h14c1.1 0 2-.9 2-2V5c0-1.1-.9-2-2-2zM9 17H7v-7h2v7zm4 0h-2V7h2v10zm4 0h-2v-4h2v4z\"/>\n",
       "    </g>\n",
       "</svg>\n",
       "  </button>\n",
       "\n",
       "<style>\n",
       "  .colab-df-quickchart {\n",
       "      --bg-color: #E8F0FE;\n",
       "      --fill-color: #1967D2;\n",
       "      --hover-bg-color: #E2EBFA;\n",
       "      --hover-fill-color: #174EA6;\n",
       "      --disabled-fill-color: #AAA;\n",
       "      --disabled-bg-color: #DDD;\n",
       "  }\n",
       "\n",
       "  [theme=dark] .colab-df-quickchart {\n",
       "      --bg-color: #3B4455;\n",
       "      --fill-color: #D2E3FC;\n",
       "      --hover-bg-color: #434B5C;\n",
       "      --hover-fill-color: #FFFFFF;\n",
       "      --disabled-bg-color: #3B4455;\n",
       "      --disabled-fill-color: #666;\n",
       "  }\n",
       "\n",
       "  .colab-df-quickchart {\n",
       "    background-color: var(--bg-color);\n",
       "    border: none;\n",
       "    border-radius: 50%;\n",
       "    cursor: pointer;\n",
       "    display: none;\n",
       "    fill: var(--fill-color);\n",
       "    height: 32px;\n",
       "    padding: 0;\n",
       "    width: 32px;\n",
       "  }\n",
       "\n",
       "  .colab-df-quickchart:hover {\n",
       "    background-color: var(--hover-bg-color);\n",
       "    box-shadow: 0 1px 2px rgba(60, 64, 67, 0.3), 0 1px 3px 1px rgba(60, 64, 67, 0.15);\n",
       "    fill: var(--button-hover-fill-color);\n",
       "  }\n",
       "\n",
       "  .colab-df-quickchart-complete:disabled,\n",
       "  .colab-df-quickchart-complete:disabled:hover {\n",
       "    background-color: var(--disabled-bg-color);\n",
       "    fill: var(--disabled-fill-color);\n",
       "    box-shadow: none;\n",
       "  }\n",
       "\n",
       "  .colab-df-spinner {\n",
       "    border: 2px solid var(--fill-color);\n",
       "    border-color: transparent;\n",
       "    border-bottom-color: var(--fill-color);\n",
       "    animation:\n",
       "      spin 1s steps(1) infinite;\n",
       "  }\n",
       "\n",
       "  @keyframes spin {\n",
       "    0% {\n",
       "      border-color: transparent;\n",
       "      border-bottom-color: var(--fill-color);\n",
       "      border-left-color: var(--fill-color);\n",
       "    }\n",
       "    20% {\n",
       "      border-color: transparent;\n",
       "      border-left-color: var(--fill-color);\n",
       "      border-top-color: var(--fill-color);\n",
       "    }\n",
       "    30% {\n",
       "      border-color: transparent;\n",
       "      border-left-color: var(--fill-color);\n",
       "      border-top-color: var(--fill-color);\n",
       "      border-right-color: var(--fill-color);\n",
       "    }\n",
       "    40% {\n",
       "      border-color: transparent;\n",
       "      border-right-color: var(--fill-color);\n",
       "      border-top-color: var(--fill-color);\n",
       "    }\n",
       "    60% {\n",
       "      border-color: transparent;\n",
       "      border-right-color: var(--fill-color);\n",
       "    }\n",
       "    80% {\n",
       "      border-color: transparent;\n",
       "      border-right-color: var(--fill-color);\n",
       "      border-bottom-color: var(--fill-color);\n",
       "    }\n",
       "    90% {\n",
       "      border-color: transparent;\n",
       "      border-bottom-color: var(--fill-color);\n",
       "    }\n",
       "  }\n",
       "</style>\n",
       "\n",
       "  <script>\n",
       "    async function quickchart(key) {\n",
       "      const quickchartButtonEl =\n",
       "        document.querySelector('#' + key + ' button');\n",
       "      quickchartButtonEl.disabled = true;  // To prevent multiple clicks.\n",
       "      quickchartButtonEl.classList.add('colab-df-spinner');\n",
       "      try {\n",
       "        const charts = await google.colab.kernel.invokeFunction(\n",
       "            'suggestCharts', [key], {});\n",
       "      } catch (error) {\n",
       "        console.error('Error during call to suggestCharts:', error);\n",
       "      }\n",
       "      quickchartButtonEl.classList.remove('colab-df-spinner');\n",
       "      quickchartButtonEl.classList.add('colab-df-quickchart-complete');\n",
       "    }\n",
       "    (() => {\n",
       "      let quickchartButtonEl =\n",
       "        document.querySelector('#df-87b201f4-9ecb-4563-a4e5-7440829e26b5 button');\n",
       "      quickchartButtonEl.style.display =\n",
       "        google.colab.kernel.accessAllowed ? 'block' : 'none';\n",
       "    })();\n",
       "  </script>\n",
       "</div>\n",
       "\n",
       "    </div>\n",
       "  </div>\n"
      ],
      "text/plain": [
       "           GEO Accession         Disease State  Subject Age Gender  \\\n",
       "GSM1051525    GSM1051525  rheumatoid arthritis  Patient  67      f   \n",
       "GSM1051526    GSM1051526  rheumatoid arthritis  Patient  49      f   \n",
       "GSM1051527    GSM1051527  rheumatoid arthritis  Patient  53      f   \n",
       "GSM1051528    GSM1051528  rheumatoid arthritis  Patient  62      f   \n",
       "GSM1051529    GSM1051529  rheumatoid arthritis  Patient  33      f   \n",
       "GSM1051530    GSM1051530  rheumatoid arthritis  Patient  59      f   \n",
       "GSM1051531    GSM1051531  rheumatoid arthritis  Patient  66      f   \n",
       "GSM1051532    GSM1051532  rheumatoid arthritis  Patient  51      f   \n",
       "GSM1051533    GSM1051533                Normal   Normal  55      m   \n",
       "GSM1051534    GSM1051534                Normal   Normal  37      m   \n",
       "\n",
       "           Smoking Status  \n",
       "GSM1051525        current  \n",
       "GSM1051526        current  \n",
       "GSM1051527             ex  \n",
       "GSM1051528        current  \n",
       "GSM1051529          never  \n",
       "GSM1051530        current  \n",
       "GSM1051531          never  \n",
       "GSM1051532             ex  \n",
       "GSM1051533        current  \n",
       "GSM1051534          never  "
      ]
     },
     "execution_count": 13,
     "metadata": {},
     "output_type": "execute_result"
    }
   ],
   "source": [
    "DNA_metadata.head(10)"
   ]
  },
  {
   "cell_type": "markdown",
   "metadata": {
    "id": "mmA2BUTvdOUi"
   },
   "source": [
    "# DNA_metadata\n",
    "*   GEO Accession: Subject ID\n",
    "*   Disease State: **the disease name** or  **Normal**\n",
    "*   Subject: **Patient** or **Normal**\n",
    "*   Age: age of the subject\n",
    "*   Gender: **f** or **m**, we can ignore this feature in this project.\n",
    "*   Smoking State:\n",
    "\n",
    "      ex: previously smoked\n",
    "\n",
    "      current: currently smoking\n",
    "\n",
    "      never: no history of smoking\n",
    "      \n",
    "      occasional: occational smoking\n",
    "\n"
   ]
  },
  {
   "cell_type": "code",
   "execution_count": 14,
   "metadata": {
    "colab": {
     "base_uri": "https://localhost:8080/"
    },
    "id": "n42G26hGc5v2",
    "outputId": "8de86e8b-0e1d-4a4c-90d5-7e50b39ac869"
   },
   "outputs": [
    {
     "data": {
      "text/plain": [
       "(689, 6)"
      ]
     },
     "execution_count": 14,
     "metadata": {},
     "output_type": "execute_result"
    }
   ],
   "source": [
    "DNA_metadata.shape"
   ]
  },
  {
   "cell_type": "markdown",
   "metadata": {
    "id": "HIWZyqmRdIY8"
   },
   "source": [
    "Q.No.1 Conduct thorough Exploratory Data Analysis (EDA)"
   ]
  },
  {
   "cell_type": "code",
   "execution_count": 15,
   "metadata": {
    "colab": {
     "base_uri": "https://localhost:8080/"
    },
    "id": "nmv3GpWerLoy",
    "outputId": "3ff8352b-4e55-4f6a-f555-1de78ef41520"
   },
   "outputs": [
    {
     "name": "stdout",
     "output_type": "stream",
     "text": [
      "(689, 6)\n",
      "(689, 18613)\n",
      "<class 'pandas.core.frame.DataFrame'>\n",
      "Index: 689 entries, GSM1051525 to GSM1052213\n",
      "Data columns (total 6 columns):\n",
      " #   Column          Non-Null Count  Dtype \n",
      "---  ------          --------------  ----- \n",
      " 0   GEO Accession   689 non-null    object\n",
      " 1   Disease State   689 non-null    object\n",
      " 2   Subject         689 non-null    object\n",
      " 3   Age             689 non-null    object\n",
      " 4   Gender          689 non-null    object\n",
      " 5   Smoking Status  689 non-null    object\n",
      "dtypes: object(6)\n",
      "memory usage: 37.7+ KB\n",
      "None\n",
      "<class 'pandas.core.frame.DataFrame'>\n",
      "Index: 689 entries, GSM1051525 to GSM1052213\n",
      "Columns: 18613 entries, dataset to cg05593325\n",
      "dtypes: float64(18611), object(2)\n",
      "memory usage: 97.8+ MB\n",
      "None\n"
     ]
    }
   ],
   "source": [
    "# Understand the Data\n",
    "print(DNA_metadata.shape)\n",
    "print(DNA_data.shape)\n",
    "print(DNA_metadata.info())\n",
    "print(DNA_data.info())"
   ]
  },
  {
   "cell_type": "code",
   "execution_count": 16,
   "metadata": {
    "id": "4gu5T7yRrLoz"
   },
   "outputs": [],
   "source": [
    "# Handle missing values\n",
    "DNA_metadata = DNA_metadata.dropna()\n",
    "DNA_data = DNA_data.dropna()"
   ]
  },
  {
   "cell_type": "code",
   "execution_count": 17,
   "metadata": {
    "colab": {
     "base_uri": "https://localhost:8080/"
    },
    "id": "qAbRSXferLoz",
    "outputId": "be6da3da-f681-4655-90b0-bfd99e37dfa6"
   },
   "outputs": [
    {
     "name": "stdout",
     "output_type": "stream",
     "text": [
      "\n",
      "DNA Data Summary Statistics:\n",
      "              age  cg04601137  cg10064162  cg17559549  cg12441964  cg21493583  \\\n",
      "count  689.000000  689.000000  689.000000  689.000000  689.000000  689.000000   \n",
      "mean    51.930334    0.338468    0.166053    0.086099    0.827663    0.179404   \n",
      "std     11.795659    0.038610    0.044347    0.017590    0.021486    0.039530   \n",
      "min     18.000000    0.150789    0.062523    0.041095    0.754965    0.074993   \n",
      "25%     45.000000    0.315232    0.138191    0.073084    0.811928    0.154597   \n",
      "50%     54.000000    0.340015    0.159454    0.084679    0.826675    0.175820   \n",
      "75%     61.000000    0.363490    0.184654    0.096301    0.842737    0.198103   \n",
      "max     70.000000    0.516413    0.467596    0.152492    0.915956    0.360854   \n",
      "\n",
      "       cg27318546  cg14156381  cg08332868  cg06307601  ...  cg06291595  \\\n",
      "count  689.000000  689.000000  689.000000  689.000000  ...  689.000000   \n",
      "mean     0.075722    0.449283    0.064011    0.098119  ...    0.111154   \n",
      "std      0.017168    0.033111    0.012710    0.017134  ...    0.018990   \n",
      "min      0.033812    0.302631    0.035168    0.054240  ...    0.052253   \n",
      "25%      0.063496    0.427810    0.054795    0.086598  ...    0.099057   \n",
      "50%      0.072503    0.450345    0.061896    0.096761  ...    0.110009   \n",
      "75%      0.084900    0.470834    0.071358    0.108400  ...    0.122810   \n",
      "max      0.139412    0.556489    0.100100    0.177209  ...    0.183628   \n",
      "\n",
      "       cg06521852  cg24024214  cg25148589  cg20692181  cg21207436  cg15299721  \\\n",
      "count  689.000000  689.000000  689.000000  689.000000  689.000000  689.000000   \n",
      "mean     0.180709    0.849549    0.223004    0.833066    0.765520    0.072588   \n",
      "std      0.036439    0.032483    0.038740    0.040403    0.043217    0.014046   \n",
      "min      0.084632    0.569747    0.114775    0.560137    0.412934    0.033801   \n",
      "25%      0.155745    0.834846    0.197068    0.815784    0.743257    0.062994   \n",
      "50%      0.180096    0.854163    0.219875    0.839721    0.770107    0.070776   \n",
      "75%      0.203386    0.867971    0.244944    0.858254    0.791750    0.081269   \n",
      "max      0.316491    0.936447    0.543229    0.931387    0.912311    0.136870   \n",
      "\n",
      "       cg00884221  cg27638672  cg05593325  \n",
      "count  689.000000  689.000000  689.000000  \n",
      "mean     0.062747    0.071846    0.198082  \n",
      "std      0.016025    0.014523    0.030051  \n",
      "min      0.024940    0.036597    0.101858  \n",
      "25%      0.052051    0.062647    0.179075  \n",
      "50%      0.060127    0.071665    0.196973  \n",
      "75%      0.072923    0.081031    0.215492  \n",
      "max      0.126262    0.174929    0.351011  \n",
      "\n",
      "[8 rows x 18611 columns]\n"
     ]
    }
   ],
   "source": [
    "# Descriptive Statistics\n",
    "# displaying all summary statistics\n",
    "print(\"\\nDNA Data Summary Statistics:\")\n",
    "print(DNA_data.describe())"
   ]
  },
  {
   "cell_type": "code",
   "execution_count": 18,
   "metadata": {
    "colab": {
     "base_uri": "https://localhost:8080/"
    },
    "id": "FT3dNTzqrLo0",
    "outputId": "cabd75fe-8c13-4773-db5d-d416d39cfcd9"
   },
   "outputs": [
    {
     "name": "stdout",
     "output_type": "stream",
     "text": [
      "\n",
      "Summary Statistics for 'cg' Features:\n",
      "       cg04601137  cg10064162  cg17559549  cg12441964  cg21493583  cg27318546  \\\n",
      "count  689.000000  689.000000  689.000000  689.000000  689.000000  689.000000   \n",
      "mean     0.338468    0.166053    0.086099    0.827663    0.179404    0.075722   \n",
      "std      0.038610    0.044347    0.017590    0.021486    0.039530    0.017168   \n",
      "min      0.150789    0.062523    0.041095    0.754965    0.074993    0.033812   \n",
      "25%      0.315232    0.138191    0.073084    0.811928    0.154597    0.063496   \n",
      "50%      0.340015    0.159454    0.084679    0.826675    0.175820    0.072503   \n",
      "75%      0.363490    0.184654    0.096301    0.842737    0.198103    0.084900   \n",
      "max      0.516413    0.467596    0.152492    0.915956    0.360854    0.139412   \n",
      "\n",
      "       cg14156381  cg08332868  cg06307601  cg15300989  ...  cg06291595  \\\n",
      "count  689.000000  689.000000  689.000000  689.000000  ...  689.000000   \n",
      "mean     0.449283    0.064011    0.098119    0.055565  ...    0.111154   \n",
      "std      0.033111    0.012710    0.017134    0.013642  ...    0.018990   \n",
      "min      0.302631    0.035168    0.054240    0.018235  ...    0.052253   \n",
      "25%      0.427810    0.054795    0.086598    0.045552  ...    0.099057   \n",
      "50%      0.450345    0.061896    0.096761    0.053825  ...    0.110009   \n",
      "75%      0.470834    0.071358    0.108400    0.064412  ...    0.122810   \n",
      "max      0.556489    0.100100    0.177209    0.110445  ...    0.183628   \n",
      "\n",
      "       cg06521852  cg24024214  cg25148589  cg20692181  cg21207436  cg15299721  \\\n",
      "count  689.000000  689.000000  689.000000  689.000000  689.000000  689.000000   \n",
      "mean     0.180709    0.849549    0.223004    0.833066    0.765520    0.072588   \n",
      "std      0.036439    0.032483    0.038740    0.040403    0.043217    0.014046   \n",
      "min      0.084632    0.569747    0.114775    0.560137    0.412934    0.033801   \n",
      "25%      0.155745    0.834846    0.197068    0.815784    0.743257    0.062994   \n",
      "50%      0.180096    0.854163    0.219875    0.839721    0.770107    0.070776   \n",
      "75%      0.203386    0.867971    0.244944    0.858254    0.791750    0.081269   \n",
      "max      0.316491    0.936447    0.543229    0.931387    0.912311    0.136870   \n",
      "\n",
      "       cg00884221  cg27638672  cg05593325  \n",
      "count  689.000000  689.000000  689.000000  \n",
      "mean     0.062747    0.071846    0.198082  \n",
      "std      0.016025    0.014523    0.030051  \n",
      "min      0.024940    0.036597    0.101858  \n",
      "25%      0.052051    0.062647    0.179075  \n",
      "50%      0.060127    0.071665    0.196973  \n",
      "75%      0.072923    0.081031    0.215492  \n",
      "max      0.126262    0.174929    0.351011  \n",
      "\n",
      "[8 rows x 18610 columns]\n"
     ]
    }
   ],
   "source": [
    "# displaying summary statistics for features starting with 'cg'\n",
    "cg_features = [col for col in DNA_data.columns if col.startswith('cg')]\n",
    "print(\"\\nSummary Statistics for 'cg' Features:\")\n",
    "print(DNA_data[cg_features].describe())"
   ]
  },
  {
   "cell_type": "markdown",
   "metadata": {
    "id": "tLz-OF6KrLo2"
   },
   "source": [
    "Q.No.2 Feature deduction methods"
   ]
  },
  {
   "cell_type": "markdown",
   "metadata": {
    "id": "XHSfNZXNrLo2"
   },
   "source": [
    "2.1. Feature_set_1:"
   ]
  },
  {
   "cell_type": "markdown",
   "metadata": {
    "id": "us99n4oxrLo2"
   },
   "source": [
    "i. Use machine learning algorithms such as Logistic regression,\n",
    "Random Forest, or Gradient Boosting etc., to rank features based on\n",
    "their importance."
   ]
  },
  {
   "cell_type": "code",
   "execution_count": 22,
   "metadata": {
    "id": "I23OBvt8rLo3"
   },
   "outputs": [],
   "source": [
    "from sklearn.model_selection import train_test_split\n",
    "from sklearn.preprocessing import StandardScaler\n",
    "from sklearn.linear_model import LogisticRegression\n",
    "from sklearn.ensemble import RandomForestClassifier, GradientBoostingClassifier\n",
    "import numpy as np"
   ]
  },
  {
   "cell_type": "code",
   "execution_count": 23,
   "metadata": {
    "id": "OqrqS_8arLo3"
   },
   "outputs": [],
   "source": [
    "# Step 1: Split the data into features (X) and target variable (y)\n",
    "X = DNA_data.loc[:, DNA_data.columns.str.startswith('cg')]\n",
    "y = DNA_metadata['Disease State']  # or 'Age' depending on the target variable"
   ]
  },
  {
   "cell_type": "code",
   "execution_count": 24,
   "metadata": {
    "id": "a-abBhu_rLo4"
   },
   "outputs": [],
   "source": [
    "# Step 2: Preprocess the data if necessary (scaling)\n",
    "scaler = StandardScaler()\n",
    "X_scaled = scaler.fit_transform(X)"
   ]
  },
  {
   "cell_type": "code",
   "execution_count": 25,
   "metadata": {
    "id": "wBPNaCIWrLo4"
   },
   "outputs": [],
   "source": [
    "# Step 3: Train machine learning models and extract feature importance\n",
    "models = {\n",
    "    'Logistic Regression': LogisticRegression(max_iter=1000),  # Increase max_iter\n",
    "    'Random Forest': RandomForestClassifier(),\n",
    "    'Gradient Boosting': GradientBoostingClassifier()\n",
    "}"
   ]
  },
  {
   "cell_type": "code",
   "execution_count": 26,
   "metadata": {
    "id": "koJpbjmUrLo4"
   },
   "outputs": [],
   "source": [
    "# Initialize empty dictionary to store feature importances\n",
    "feature_importances = {}"
   ]
  },
  {
   "cell_type": "code",
   "execution_count": 27,
   "metadata": {
    "id": "vSnrI6W2rLo4"
   },
   "outputs": [],
   "source": [
    "# Fit and extract feature importances for Random Forest and Gradient Boosting\n",
    "for model_name, model in models.items():\n",
    "    if model_name in ['Random Forest', 'Gradient Boosting']:\n",
    "        model.fit(X_scaled, y)\n",
    "        feature_importances[model_name] = model.feature_importances_"
   ]
  },
  {
   "cell_type": "code",
   "execution_count": 28,
   "metadata": {
    "id": "wAPl488arLo5"
   },
   "outputs": [],
   "source": [
    "from sklearn.feature_selection import SelectFromModel\n",
    "# Feature selection for Logistic Regression\n",
    "if 'Logistic Regression' in models:\n",
    "    # Perform feature selection using SelectFromModel\n",
    "    selector = SelectFromModel(LogisticRegression(max_iter=10000)).fit(X_scaled, y)\n",
    "    selected_features = selector.get_support()\n",
    "    feature_importances['Logistic Regression'] = selected_features / np.sum(selected_features)"
   ]
  },
  {
   "cell_type": "markdown",
   "metadata": {
    "id": "zb-NHpDUrLo5"
   },
   "source": [
    "ii. Select top significant features based on their importance scores."
   ]
  },
  {
   "cell_type": "code",
   "execution_count": 29,
   "metadata": {
    "colab": {
     "base_uri": "https://localhost:8080/"
    },
    "id": "mm6HBMImrLo5",
    "outputId": "70789a26-1995-45c8-a1dc-578d3b3fe8de"
   },
   "outputs": [
    {
     "name": "stdout",
     "output_type": "stream",
     "text": [
      "Top features for Random Forest:\n",
      "Index(['cg21492378', 'cg17078393', 'cg23228178', 'cg02635407', 'cg04312209',\n",
      "       'cg24489015', 'cg00795812', 'cg13461622', 'cg17142183', 'cg17460386'],\n",
      "      dtype='object')\n",
      "Top features for Gradient Boosting:\n",
      "Index(['cg16967583', 'cg05044994', 'cg22876908', 'cg03330678', 'cg26757673',\n",
      "       'cg17460386', 'cg12315311', 'cg10011232', 'cg00323915', 'cg06027949'],\n",
      "      dtype='object')\n",
      "Top features for Logistic Regression:\n",
      "Index(['cg08291000', 'cg24748786', 'cg01795697', 'cg03565323', 'cg02494117',\n",
      "       'cg26069745', 'cg22373112', 'cg00766729', 'cg03684977', 'cg10911660'],\n",
      "      dtype='object')\n"
     ]
    }
   ],
   "source": [
    "# Print top significant features for each model\n",
    "for model_name, importance_scores in feature_importances.items():\n",
    "    print(f\"Top features for {model_name}:\")\n",
    "    print(X.columns[np.argsort(importance_scores)[::-1]][:10])  # Change 10 to desired number of top features"
   ]
  },
  {
   "cell_type": "markdown",
   "metadata": {
    "id": "o9m_adpErLo5"
   },
   "source": [
    "2.2 Feature_set_2:"
   ]
  },
  {
   "cell_type": "markdown",
   "metadata": {
    "id": "VavoOsVyrLo6"
   },
   "source": [
    "i. Apply PCA to reduce the dimensionality of the dataset while\n",
    "preserving its variance.\n"
   ]
  },
  {
   "cell_type": "markdown",
   "metadata": {
    "id": "SrZYcKvKrLo6"
   },
   "source": [
    "Principal Component Analysis (PCA) is a dimensionality reduction technique that aims to reduce the number of features in a dataset while preserving most of its variance."
   ]
  },
  {
   "cell_type": "code",
   "execution_count": 30,
   "metadata": {
    "id": "-Fg-2XhQrLo6"
   },
   "outputs": [],
   "source": [
    "from sklearn.decomposition import PCA\n",
    "from sklearn.preprocessing import StandardScaler"
   ]
  },
  {
   "cell_type": "code",
   "execution_count": 31,
   "metadata": {
    "id": "C_rXShhvrLo6"
   },
   "outputs": [],
   "source": [
    "# Step 1: Standardize the data\n",
    "scaler = StandardScaler()\n",
    "X_scaled = scaler.fit_transform(X)\n"
   ]
  },
  {
   "cell_type": "code",
   "execution_count": 32,
   "metadata": {
    "id": "DtgjzgJMrLo7"
   },
   "outputs": [],
   "source": [
    "# Step 2: Apply PCA\n",
    "pca = PCA(n_components=0.95)  # Retain 95% of the variance\n",
    "X_pca = pca.fit_transform(X_scaled)"
   ]
  },
  {
   "cell_type": "code",
   "execution_count": 33,
   "metadata": {
    "colab": {
     "base_uri": "https://localhost:8080/"
    },
    "id": "ZogIkp2jrLo7",
    "outputId": "284c2914-15ae-41b6-8adf-b854d0fbb271"
   },
   "outputs": [
    {
     "name": "stdout",
     "output_type": "stream",
     "text": [
      "Number of components: 553\n",
      "Explained variance ratio: [0.27497669 0.09151035 0.07046489 0.03428981 0.01920375 0.01622774\n",
      " 0.01277609 0.0103645  0.00964144 0.00861533 0.00641815 0.00570843\n",
      " 0.00525703 0.00384085 0.00373735 0.00321567 0.00277284 0.00253766\n",
      " 0.00241362 0.00215402 0.00202599 0.00195464 0.00188919 0.00182469\n",
      " 0.001771   0.00174449 0.00173877 0.0016843  0.00164774 0.00161453\n",
      " 0.00158922 0.00156548 0.00155479 0.0015071  0.00149581 0.001465\n",
      " 0.0014604  0.00142907 0.00140941 0.00135817 0.00133004 0.001306\n",
      " 0.00129985 0.00127673 0.00125997 0.0012556  0.00123878 0.00122955\n",
      " 0.00121781 0.00120939 0.00119565 0.00117098 0.00115662 0.00115496\n",
      " 0.0011447  0.00112946 0.00112169 0.00111657 0.00110058 0.00109241\n",
      " 0.00108575 0.00107816 0.00107085 0.00106612 0.00106063 0.00105497\n",
      " 0.00105172 0.00104611 0.00103473 0.00103253 0.00102914 0.00102388\n",
      " 0.00102076 0.00101238 0.00100716 0.00100135 0.00099586 0.00099137\n",
      " 0.00098807 0.00098326 0.0009802  0.00097325 0.00096576 0.00096347\n",
      " 0.00095475 0.00095312 0.00094585 0.00094217 0.00093736 0.00093177\n",
      " 0.00092762 0.00092559 0.0009182  0.00091698 0.00091323 0.00090894\n",
      " 0.0009071  0.00090145 0.00089895 0.0008951  0.00089256 0.00088696\n",
      " 0.00088455 0.00087648 0.00087376 0.00087278 0.00087024 0.00086707\n",
      " 0.00086587 0.00086083 0.00085819 0.00085287 0.0008501  0.00084889\n",
      " 0.00084447 0.00084273 0.00084139 0.00083606 0.00083394 0.00082944\n",
      " 0.00082767 0.00082603 0.00082586 0.00081955 0.00081826 0.00081536\n",
      " 0.00081252 0.00081047 0.00080753 0.00080603 0.00080456 0.00080263\n",
      " 0.00080084 0.00079911 0.00079781 0.0007963  0.0007906  0.0007896\n",
      " 0.00078851 0.00078836 0.00078521 0.00078422 0.0007814  0.00077955\n",
      " 0.00077663 0.00077575 0.00077487 0.00076934 0.00076794 0.00076684\n",
      " 0.00076521 0.0007642  0.00076219 0.00075984 0.00075727 0.00075567\n",
      " 0.00075485 0.00075396 0.00075099 0.00074905 0.00074826 0.00074544\n",
      " 0.00074397 0.00074312 0.00074195 0.00074081 0.00073947 0.00073727\n",
      " 0.00073651 0.00073526 0.00073242 0.00073191 0.00072956 0.00072922\n",
      " 0.00072693 0.00072493 0.00072467 0.00072227 0.00072147 0.00071987\n",
      " 0.00071917 0.00071833 0.00071777 0.0007157  0.00071476 0.00071234\n",
      " 0.00071059 0.00071045 0.00070968 0.00070842 0.00070713 0.00070618\n",
      " 0.00070496 0.00070334 0.00070302 0.00070026 0.00069869 0.0006978\n",
      " 0.00069668 0.0006955  0.00069488 0.00069381 0.00069262 0.00069187\n",
      " 0.00068958 0.00068805 0.00068717 0.00068643 0.00068501 0.00068374\n",
      " 0.00068152 0.00068014 0.00067899 0.00067847 0.00067749 0.00067636\n",
      " 0.00067555 0.00067323 0.0006723  0.00067154 0.00067033 0.00066951\n",
      " 0.00066816 0.00066724 0.00066628 0.000665   0.00066416 0.00066235\n",
      " 0.00066178 0.00066151 0.00066008 0.00065896 0.00065772 0.00065677\n",
      " 0.00065576 0.00065455 0.00065295 0.0006527  0.00065146 0.00064961\n",
      " 0.00064838 0.00064743 0.00064631 0.00064549 0.00064463 0.00064395\n",
      " 0.00064297 0.00064196 0.00064039 0.00064004 0.00063853 0.00063783\n",
      " 0.00063651 0.00063505 0.00063319 0.00063307 0.00063201 0.00063089\n",
      " 0.00063003 0.0006299  0.00062805 0.00062747 0.00062679 0.00062672\n",
      " 0.00062547 0.00062378 0.00062314 0.00062184 0.00062052 0.00061943\n",
      " 0.00061882 0.00061803 0.00061761 0.0006167  0.00061539 0.00061469\n",
      " 0.00061429 0.00061293 0.0006122  0.00061183 0.0006108  0.00060947\n",
      " 0.0006083  0.0006073  0.00060693 0.00060512 0.00060486 0.00060444\n",
      " 0.00060403 0.00060318 0.00060176 0.00060125 0.00059988 0.00059847\n",
      " 0.00059786 0.00059714 0.00059634 0.00059521 0.00059507 0.00059388\n",
      " 0.00059313 0.0005928  0.00059162 0.00059026 0.00058963 0.00058909\n",
      " 0.00058772 0.00058707 0.00058585 0.0005854  0.00058443 0.00058368\n",
      " 0.00058251 0.0005817  0.0005807  0.00058027 0.00057897 0.00057805\n",
      " 0.00057742 0.00057733 0.00057638 0.00057489 0.00057454 0.00057376\n",
      " 0.00057288 0.00057264 0.00057083 0.00057028 0.0005699  0.00056891\n",
      " 0.00056816 0.00056771 0.00056698 0.00056662 0.00056608 0.00056527\n",
      " 0.00056463 0.00056367 0.00056303 0.00056155 0.00056004 0.00055977\n",
      " 0.00055888 0.00055853 0.00055798 0.00055572 0.0005551  0.00055429\n",
      " 0.00055405 0.00055347 0.00055191 0.0005512  0.00055058 0.00055048\n",
      " 0.00055012 0.00054866 0.00054809 0.00054713 0.00054586 0.00054503\n",
      " 0.0005447  0.00054429 0.00054349 0.00054244 0.00054208 0.00054113\n",
      " 0.0005402  0.00053948 0.00053918 0.00053822 0.00053805 0.00053701\n",
      " 0.00053611 0.00053528 0.0005349  0.00053327 0.00053318 0.00053254\n",
      " 0.00053168 0.00053051 0.0005301  0.00052934 0.0005284  0.000528\n",
      " 0.0005275  0.00052667 0.00052653 0.00052479 0.00052447 0.00052415\n",
      " 0.00052296 0.00052229 0.00052137 0.00052119 0.00052024 0.00051916\n",
      " 0.00051807 0.00051771 0.00051722 0.00051616 0.00051548 0.00051526\n",
      " 0.00051445 0.00051428 0.00051327 0.00051258 0.00051232 0.00051109\n",
      " 0.00050943 0.00050915 0.00050845 0.00050778 0.00050698 0.00050633\n",
      " 0.0005053  0.0005048  0.0005045  0.00050371 0.00050316 0.00050278\n",
      " 0.00050268 0.00050183 0.00050034 0.00049941 0.00049827 0.00049803\n",
      " 0.00049766 0.00049668 0.00049621 0.00049525 0.0004951  0.00049378\n",
      " 0.00049287 0.00049275 0.00049256 0.0004919  0.00049067 0.00048978\n",
      " 0.00048855 0.00048846 0.00048746 0.00048701 0.00048615 0.00048522\n",
      " 0.0004848  0.0004845  0.00048317 0.00048283 0.00048252 0.00048215\n",
      " 0.00048086 0.0004806  0.00047977 0.0004788  0.00047826 0.00047785\n",
      " 0.00047743 0.00047711 0.00047643 0.00047612 0.00047515 0.00047462\n",
      " 0.00047321 0.00047276 0.00047226 0.00047149 0.00047029 0.00046948\n",
      " 0.00046905 0.0004683  0.00046793 0.00046736 0.00046691 0.00046551\n",
      " 0.00046532 0.00046456 0.0004638  0.00046307 0.00046267 0.00046206\n",
      " 0.00046153 0.00046098 0.00046081 0.00046015 0.00045911 0.00045882\n",
      " 0.00045832 0.00045802 0.00045677 0.00045641 0.00045582 0.00045569\n",
      " 0.00045404 0.00045337 0.00045309 0.00045249 0.00045149 0.000451\n",
      " 0.00045081 0.00044971 0.00044888 0.00044833 0.00044759 0.00044701\n",
      " 0.0004461  0.00044592 0.00044461 0.00044395 0.00044371 0.00044296\n",
      " 0.000442   0.00044165 0.00044154 0.00044064 0.00044017 0.00043962\n",
      " 0.00043859 0.00043838 0.00043794 0.00043707 0.00043665 0.0004355\n",
      " 0.00043429 0.00043402 0.0004329  0.00043254 0.00043211 0.00043173\n",
      " 0.00043112 0.00042983 0.00042959 0.00042893 0.00042809 0.00042773\n",
      " 0.00042734 0.00042679 0.00042613 0.00042537 0.00042486 0.00042474\n",
      " 0.00042355 0.00042292 0.00042276 0.00042214 0.00042061 0.00042009\n",
      " 0.00041987 0.00041977 0.00041888 0.00041838 0.00041731 0.00041647\n",
      " 0.00041631]\n"
     ]
    }
   ],
   "source": [
    "# Step 3: Print the number of components and explained variance ratio\n",
    "print(\"Number of components:\", pca.n_components_)\n",
    "print(\"Explained variance ratio:\", pca.explained_variance_ratio_)\n"
   ]
  },
  {
   "cell_type": "markdown",
   "metadata": {
    "id": "YFCyEcTFrLo7"
   },
   "source": [
    "ii. Choose the number of principal components based on the explained\n",
    "variance ratio."
   ]
  },
  {
   "cell_type": "markdown",
   "metadata": {
    "id": "q9PNiwhrrLo7"
   },
   "source": [
    "Choosing the number of principal components based on the explained variance ratio is a crucial step in PCA. By selecting a number of components that retain a high percentage of the total variance, we can effectively reduce the dimensionality of the dataset while preserving most of its information."
   ]
  },
  {
   "cell_type": "code",
   "execution_count": 34,
   "metadata": {
    "id": "l-Tyht9vrLpK"
   },
   "outputs": [],
   "source": [
    "import matplotlib.pyplot as plt"
   ]
  },
  {
   "cell_type": "code",
   "execution_count": 35,
   "metadata": {
    "id": "63zZEe7_rLpK"
   },
   "outputs": [],
   "source": [
    "# Step 1: Apply PCA to calculate explained variance ratio\n",
    "pca = PCA()\n",
    "X_pca = pca.fit_transform(X_scaled)"
   ]
  },
  {
   "cell_type": "code",
   "execution_count": 36,
   "metadata": {
    "colab": {
     "base_uri": "https://localhost:8080/",
     "height": 472
    },
    "id": "eG2rDo8CrLpK",
    "outputId": "4dab2868-4a68-432a-e78a-f49a0da99268"
   },
   "outputs": [
    {
     "data": {
      "image/png": "[encoded data removed]",
      "text/plain": [
       "<Figure size 640x480 with 1 Axes>"
      ]
     },
     "metadata": {},
     "output_type": "display_data"
    }
   ],
   "source": [
    "# Step 2: Plot cumulative explained variance ratio\n",
    "cumulative_variance_ratio = np.cumsum(pca.explained_variance_ratio_)\n",
    "plt.plot(cumulative_variance_ratio)\n",
    "plt.xlabel('Number of Components')\n",
    "plt.ylabel('Cumulative Explained Variance Ratio')\n",
    "plt.title('Explained Variance Ratio vs. Number of Components')\n",
    "plt.grid(True)\n",
    "plt.show()"
   ]
  },
  {
   "cell_type": "code",
   "execution_count": 37,
   "metadata": {
    "colab": {
     "base_uri": "https://localhost:8080/"
    },
    "id": "vHbjOxThrLpL",
    "outputId": "57854873-343d-46ca-e634-9a0dd073dfba"
   },
   "outputs": [
    {
     "name": "stdout",
     "output_type": "stream",
     "text": [
      "Number of components to retain at least 95.0 % of the variance: 553\n"
     ]
    }
   ],
   "source": [
    "# Step 3: Choose the number of components based on the plot or a threshold\n",
    "threshold = 0.95  # Example threshold (95% of variance)\n",
    "num_components = np.argmax(cumulative_variance_ratio >= threshold) + 1\n",
    "print(\"Number of components to retain at least\", threshold * 100, \"% of the variance:\", num_components)"
   ]
  },
  {
   "cell_type": "markdown",
   "metadata": {
    "id": "2poIfLUcrLpL"
   },
   "source": [
    "Q.No.3 Demonstrate skillful Model Training"
   ]
  },
  {
   "cell_type": "markdown",
   "metadata": {
    "id": "rShjGKMKrLpL"
   },
   "source": [
    "3.1 Hyper parameter tuning"
   ]
  },
  {
   "cell_type": "markdown",
   "metadata": {
    "id": "Bud-JeQVrLpL"
   },
   "source": [
    "Hyperparameter tuning is a crucial step in optimizing the performance of machine learning models. It involves selecting the best set of hyperparameters for a model to achieve the highest accuracy or performance on the validation dataset."
   ]
  },
  {
   "cell_type": "code",
   "execution_count": 38,
   "metadata": {
    "id": "i7itRGPFrLpL"
   },
   "outputs": [],
   "source": [
    "from sklearn.model_selection import GridSearchCV\n",
    "\n",
    "# Define hyperparameter grid for each model\n",
    "param_grid = {\n",
    "    'Logistic Regression': {'C': [0.01, 0.1, 1.0, 10.0]},\n",
    "    'Random Forest': {'n_estimators': [50, 100, 200], 'max_depth': [None, 10, 20]},\n",
    "    'Gradient Boosting': {'n_estimators': [50, 100, 200], 'learning_rate': [0.01, 0.1, 0.2]}\n",
    "}"
   ]
  },
  {
   "cell_type": "code",
   "execution_count": 40,
   "metadata": {
    "colab": {
     "base_uri": "https://localhost:8080/",
     "height": 391
    },
    "id": "uWhlCYQrrLpM",
    "outputId": "c4d0750d-04d8-4ade-abd7-029d58817904"
   },
   "outputs": [
    {
     "name": "stdout",
     "output_type": "stream",
     "text": [
      "Best hyperparameters for Logistic Regression : {'C': 0.01}\n",
      "Best hyperparameters for Random Forest : {'max_depth': 20, 'n_estimators': 100}\n"
     ]
    },
    {
     "ename": "KeyboardInterrupt",
     "evalue": "",
     "output_type": "error",
     "traceback": [
      "\u001b[0;31m---------------------------------------------------------------------------\u001b[0m",
      "\u001b[0;31mKeyboardInterrupt\u001b[0m                         Traceback (most recent call last)",
      "\u001b[0;32m<ipython-input-40-ffd7419139e6>\u001b[0m in \u001b[0;36m<cell line: 3>\u001b[0;34m()\u001b[0m\n\u001b[1;32m      3\u001b[0m \u001b[0;32mfor\u001b[0m \u001b[0mmodel_name\u001b[0m\u001b[0;34m,\u001b[0m \u001b[0mmodel\u001b[0m \u001b[0;32min\u001b[0m \u001b[0mmodels\u001b[0m\u001b[0;34m.\u001b[0m\u001b[0mitems\u001b[0m\u001b[0;34m(\u001b[0m\u001b[0;34m)\u001b[0m\u001b[0;34m:\u001b[0m\u001b[0;34m\u001b[0m\u001b[0;34m\u001b[0m\u001b[0m\n\u001b[1;32m      4\u001b[0m     \u001b[0mgrid_search\u001b[0m \u001b[0;34m=\u001b[0m \u001b[0mGridSearchCV\u001b[0m\u001b[0;34m(\u001b[0m\u001b[0mmodel\u001b[0m\u001b[0;34m,\u001b[0m \u001b[0mparam_grid\u001b[0m\u001b[0;34m[\u001b[0m\u001b[0mmodel_name\u001b[0m\u001b[0;34m]\u001b[0m\u001b[0;34m,\u001b[0m \u001b[0mcv\u001b[0m\u001b[0;34m=\u001b[0m\u001b[0;36m3\u001b[0m\u001b[0;34m,\u001b[0m \u001b[0mscoring\u001b[0m\u001b[0;34m=\u001b[0m\u001b[0;34m'accuracy'\u001b[0m\u001b[0;34m,\u001b[0m \u001b[0mn_jobs\u001b[0m\u001b[0;34m=\u001b[0m\u001b[0;34m-\u001b[0m\u001b[0;36m1\u001b[0m\u001b[0;34m)\u001b[0m\u001b[0;34m\u001b[0m\u001b[0;34m\u001b[0m\u001b[0m\n\u001b[0;32m----> 5\u001b[0;31m     \u001b[0mgrid_search\u001b[0m\u001b[0;34m.\u001b[0m\u001b[0mfit\u001b[0m\u001b[0;34m(\u001b[0m\u001b[0mX_scaled\u001b[0m\u001b[0;34m,\u001b[0m \u001b[0my\u001b[0m\u001b[0;34m)\u001b[0m\u001b[0;34m\u001b[0m\u001b[0;34m\u001b[0m\u001b[0m\n\u001b[0m\u001b[1;32m      6\u001b[0m     \u001b[0mbest_models\u001b[0m\u001b[0;34m[\u001b[0m\u001b[0mmodel_name\u001b[0m\u001b[0;34m]\u001b[0m \u001b[0;34m=\u001b[0m \u001b[0mgrid_search\u001b[0m\u001b[0;34m.\u001b[0m\u001b[0mbest_estimator_\u001b[0m\u001b[0;34m\u001b[0m\u001b[0;34m\u001b[0m\u001b[0m\n\u001b[1;32m      7\u001b[0m     \u001b[0mprint\u001b[0m\u001b[0;34m(\u001b[0m\u001b[0;34m\"Best hyperparameters for\"\u001b[0m\u001b[0;34m,\u001b[0m \u001b[0mmodel_name\u001b[0m\u001b[0;34m,\u001b[0m \u001b[0;34m\":\"\u001b[0m\u001b[0;34m,\u001b[0m \u001b[0mgrid_search\u001b[0m\u001b[0;34m.\u001b[0m\u001b[0mbest_params_\u001b[0m\u001b[0;34m)\u001b[0m\u001b[0;34m\u001b[0m\u001b[0;34m\u001b[0m\u001b[0m\n",
      "\u001b[0;32m/usr/local/lib/python3.10/dist-packages/sklearn/model_selection/_search.py\u001b[0m in \u001b[0;36mfit\u001b[0;34m(self, X, y, groups, **fit_params)\u001b[0m\n\u001b[1;32m    872\u001b[0m                 \u001b[0;32mreturn\u001b[0m \u001b[0mresults\u001b[0m\u001b[0;34m\u001b[0m\u001b[0;34m\u001b[0m\u001b[0m\n\u001b[1;32m    873\u001b[0m \u001b[0;34m\u001b[0m\u001b[0m\n\u001b[0;32m--> 874\u001b[0;31m             \u001b[0mself\u001b[0m\u001b[0;34m.\u001b[0m\u001b[0m_run_search\u001b[0m\u001b[0;34m(\u001b[0m\u001b[0mevaluate_candidates\u001b[0m\u001b[0;34m)\u001b[0m\u001b[0;34m\u001b[0m\u001b[0;34m\u001b[0m\u001b[0m\n\u001b[0m\u001b[1;32m    875\u001b[0m \u001b[0;34m\u001b[0m\u001b[0m\n\u001b[1;32m    876\u001b[0m             \u001b[0;31m# multimetric is determined here because in the case of a callable\u001b[0m\u001b[0;34m\u001b[0m\u001b[0;34m\u001b[0m\u001b[0m\n",
      "\u001b[0;32m/usr/local/lib/python3.10/dist-packages/sklearn/model_selection/_search.py\u001b[0m in \u001b[0;36m_run_search\u001b[0;34m(self, evaluate_candidates)\u001b[0m\n\u001b[1;32m   1386\u001b[0m     \u001b[0;32mdef\u001b[0m \u001b[0m_run_search\u001b[0m\u001b[0;34m(\u001b[0m\u001b[0mself\u001b[0m\u001b[0;34m,\u001b[0m \u001b[0mevaluate_candidates\u001b[0m\u001b[0;34m)\u001b[0m\u001b[0;34m:\u001b[0m\u001b[0;34m\u001b[0m\u001b[0;34m\u001b[0m\u001b[0m\n\u001b[1;32m   1387\u001b[0m         \u001b[0;34m\"\"\"Search all candidates in param_grid\"\"\"\u001b[0m\u001b[0;34m\u001b[0m\u001b[0;34m\u001b[0m\u001b[0m\n\u001b[0;32m-> 1388\u001b[0;31m         \u001b[0mevaluate_candidates\u001b[0m\u001b[0;34m(\u001b[0m\u001b[0mParameterGrid\u001b[0m\u001b[0;34m(\u001b[0m\u001b[0mself\u001b[0m\u001b[0;34m.\u001b[0m\u001b[0mparam_grid\u001b[0m\u001b[0;34m)\u001b[0m\u001b[0;34m)\u001b[0m\u001b[0;34m\u001b[0m\u001b[0;34m\u001b[0m\u001b[0m\n\u001b[0m\u001b[1;32m   1389\u001b[0m \u001b[0;34m\u001b[0m\u001b[0m\n\u001b[1;32m   1390\u001b[0m \u001b[0;34m\u001b[0m\u001b[0m\n",
      "\u001b[0;32m/usr/local/lib/python3.10/dist-packages/sklearn/model_selection/_search.py\u001b[0m in \u001b[0;36mevaluate_candidates\u001b[0;34m(candidate_params, cv, more_results)\u001b[0m\n\u001b[1;32m    819\u001b[0m                     )\n\u001b[1;32m    820\u001b[0m \u001b[0;34m\u001b[0m\u001b[0m\n\u001b[0;32m--> 821\u001b[0;31m                 out = parallel(\n\u001b[0m\u001b[1;32m    822\u001b[0m                     delayed(_fit_and_score)(\n\u001b[1;32m    823\u001b[0m                         \u001b[0mclone\u001b[0m\u001b[0;34m(\u001b[0m\u001b[0mbase_estimator\u001b[0m\u001b[0;34m)\u001b[0m\u001b[0;34m,\u001b[0m\u001b[0;34m\u001b[0m\u001b[0;34m\u001b[0m\u001b[0m\n",
      "\u001b[0;32m/usr/local/lib/python3.10/dist-packages/sklearn/utils/parallel.py\u001b[0m in \u001b[0;36m__call__\u001b[0;34m(self, iterable)\u001b[0m\n\u001b[1;32m     61\u001b[0m             \u001b[0;32mfor\u001b[0m \u001b[0mdelayed_func\u001b[0m\u001b[0;34m,\u001b[0m \u001b[0margs\u001b[0m\u001b[0;34m,\u001b[0m \u001b[0mkwargs\u001b[0m \u001b[0;32min\u001b[0m \u001b[0miterable\u001b[0m\u001b[0;34m\u001b[0m\u001b[0;34m\u001b[0m\u001b[0m\n\u001b[1;32m     62\u001b[0m         )\n\u001b[0;32m---> 63\u001b[0;31m         \u001b[0;32mreturn\u001b[0m \u001b[0msuper\u001b[0m\u001b[0;34m(\u001b[0m\u001b[0;34m)\u001b[0m\u001b[0;34m.\u001b[0m\u001b[0m__call__\u001b[0m\u001b[0;34m(\u001b[0m\u001b[0miterable_with_config\u001b[0m\u001b[0;34m)\u001b[0m\u001b[0;34m\u001b[0m\u001b[0;34m\u001b[0m\u001b[0m\n\u001b[0m\u001b[1;32m     64\u001b[0m \u001b[0;34m\u001b[0m\u001b[0m\n\u001b[1;32m     65\u001b[0m \u001b[0;34m\u001b[0m\u001b[0m\n",
      "\u001b[0;32m/usr/local/lib/python3.10/dist-packages/joblib/parallel.py\u001b[0m in \u001b[0;36m__call__\u001b[0;34m(self, iterable)\u001b[0m\n\u001b[1;32m   2005\u001b[0m         \u001b[0mnext\u001b[0m\u001b[0;34m(\u001b[0m\u001b[0moutput\u001b[0m\u001b[0;34m)\u001b[0m\u001b[0;34m\u001b[0m\u001b[0;34m\u001b[0m\u001b[0m\n\u001b[1;32m   2006\u001b[0m \u001b[0;34m\u001b[0m\u001b[0m\n\u001b[0;32m-> 2007\u001b[0;31m         \u001b[0;32mreturn\u001b[0m \u001b[0moutput\u001b[0m \u001b[0;32mif\u001b[0m \u001b[0mself\u001b[0m\u001b[0;34m.\u001b[0m\u001b[0mreturn_generator\u001b[0m \u001b[0;32melse\u001b[0m \u001b[0mlist\u001b[0m\u001b[0;34m(\u001b[0m\u001b[0moutput\u001b[0m\u001b[0;34m)\u001b[0m\u001b[0;34m\u001b[0m\u001b[0;34m\u001b[0m\u001b[0m\n\u001b[0m\u001b[1;32m   2008\u001b[0m \u001b[0;34m\u001b[0m\u001b[0m\n\u001b[1;32m   2009\u001b[0m     \u001b[0;32mdef\u001b[0m \u001b[0m__repr__\u001b[0m\u001b[0;34m(\u001b[0m\u001b[0mself\u001b[0m\u001b[0;34m)\u001b[0m\u001b[0;34m:\u001b[0m\u001b[0;34m\u001b[0m\u001b[0;34m\u001b[0m\u001b[0m\n",
      "\u001b[0;32m/usr/local/lib/python3.10/dist-packages/joblib/parallel.py\u001b[0m in \u001b[0;36m_get_outputs\u001b[0;34m(self, iterator, pre_dispatch)\u001b[0m\n\u001b[1;32m   1648\u001b[0m \u001b[0;34m\u001b[0m\u001b[0m\n\u001b[1;32m   1649\u001b[0m             \u001b[0;32mwith\u001b[0m \u001b[0mself\u001b[0m\u001b[0;34m.\u001b[0m\u001b[0m_backend\u001b[0m\u001b[0;34m.\u001b[0m\u001b[0mretrieval_context\u001b[0m\u001b[0;34m(\u001b[0m\u001b[0;34m)\u001b[0m\u001b[0;34m:\u001b[0m\u001b[0;34m\u001b[0m\u001b[0;34m\u001b[0m\u001b[0m\n\u001b[0;32m-> 1650\u001b[0;31m                 \u001b[0;32myield\u001b[0m \u001b[0;32mfrom\u001b[0m \u001b[0mself\u001b[0m\u001b[0;34m.\u001b[0m\u001b[0m_retrieve\u001b[0m\u001b[0;34m(\u001b[0m\u001b[0;34m)\u001b[0m\u001b[0;34m\u001b[0m\u001b[0;34m\u001b[0m\u001b[0m\n\u001b[0m\u001b[1;32m   1651\u001b[0m \u001b[0;34m\u001b[0m\u001b[0m\n\u001b[1;32m   1652\u001b[0m         \u001b[0;32mexcept\u001b[0m \u001b[0mGeneratorExit\u001b[0m\u001b[0;34m:\u001b[0m\u001b[0;34m\u001b[0m\u001b[0;34m\u001b[0m\u001b[0m\n",
      "\u001b[0;32m/usr/local/lib/python3.10/dist-packages/joblib/parallel.py\u001b[0m in \u001b[0;36m_retrieve\u001b[0;34m(self)\u001b[0m\n\u001b[1;32m   1760\u001b[0m                 (self._jobs[0].get_status(\n\u001b[1;32m   1761\u001b[0m                     timeout=self.timeout) == TASK_PENDING)):\n\u001b[0;32m-> 1762\u001b[0;31m                 \u001b[0mtime\u001b[0m\u001b[0;34m.\u001b[0m\u001b[0msleep\u001b[0m\u001b[0;34m(\u001b[0m\u001b[0;36m0.01\u001b[0m\u001b[0;34m)\u001b[0m\u001b[0;34m\u001b[0m\u001b[0;34m\u001b[0m\u001b[0m\n\u001b[0m\u001b[1;32m   1763\u001b[0m                 \u001b[0;32mcontinue\u001b[0m\u001b[0;34m\u001b[0m\u001b[0;34m\u001b[0m\u001b[0m\n\u001b[1;32m   1764\u001b[0m \u001b[0;34m\u001b[0m\u001b[0m\n",
      "\u001b[0;31mKeyboardInterrupt\u001b[0m: "
     ]
    }
   ],
   "source": [
    " #Perform grid search with cross-validation for each model\n",
    "best_models = {}\n",
    "for model_name, model in models.items():\n",
    "    grid_search = GridSearchCV(model, param_grid[model_name], cv=3, scoring='accuracy', n_jobs=-1)\n",
    "    grid_search.fit(X_scaled, y)\n",
    "    best_models[model_name] = grid_search.best_estimator_\n",
    "    print(\"Best hyperparameters for\", model_name, \":\", grid_search.best_params_)\n"
   ]
  },
  {
   "cell_type": "markdown",
   "metadata": {},
   "source": [
    "Note: This code was taking very long time to execute so I interupt the execution"
   ]
  },
  {
   "cell_type": "markdown",
   "metadata": {
    "id": "BdI49PRkrLpM"
   },
   "source": [
    "3.2 Train the machine learning models (at least 2 different models) with\n",
    "Feature_set_1 and Feature_set_2 separately, then compare their\n",
    "performances."
   ]
  },
  {
   "cell_type": "code",
   "execution_count": null,
   "metadata": {
    "id": "GgRxtlfn4Ob2"
   },
   "outputs": [],
   "source": [
    "#Feature set 1"
   ]
  },
  {
   "cell_type": "code",
   "execution_count": 52,
   "metadata": {
    "colab": {
     "base_uri": "https://localhost:8080/"
    },
    "id": "SvnugyUR4HZj",
    "outputId": "d0b0953c-8d22-436a-b9d8-8b0bddb7d493"
   },
   "outputs": [
    {
     "name": "stdout",
     "output_type": "stream",
     "text": [
      "Model Accuracies for Feature Set 1:\n",
      "Logistic Regression: 0.8768\n",
      "Random Forest: 0.7971\n",
      "Gradient Boosting: 0.8261\n"
     ]
    }
   ],
   "source": [
    "# Import necessary libraries\n",
    "from sklearn.model_selection import train_test_split\n",
    "from sklearn.preprocessing import StandardScaler\n",
    "from sklearn.linear_model import LogisticRegression\n",
    "from sklearn.ensemble import RandomForestClassifier, GradientBoostingClassifier\n",
    "from sklearn.metrics import accuracy_score, classification_report\n",
    "\n",
    "# Step 1: Split the data into features (X) and target variable (y)\n",
    "X_fs1 = DNA_data.loc[:, DNA_data.columns.str.startswith('cg')]\n",
    "y_fs1 = DNA_metadata['Disease State']  # or 'Age' depending on the target variable\n",
    "\n",
    "# Step 2: Preprocess the data if necessary (scaling)\n",
    "scaler_fs1 = StandardScaler()\n",
    "X_scaled_fs1 = scaler_fs1.fit_transform(X_fs1)\n",
    "\n",
    "# Step 3: Split data into train and test sets\n",
    "X_train_fs1, X_test_fs1, y_train_fs1, y_test_fs1 = train_test_split(X_scaled_fs1, y_fs1, test_size=0.2, random_state=42)\n",
    "\n",
    "# Step 4: Train machine learning models (Logistic Regression, Random Forest, Gradient Boosting)\n",
    "models_fs1 = {\n",
    "    'Logistic Regression': LogisticRegression(max_iter=1000),\n",
    "    'Random Forest': RandomForestClassifier(),\n",
    "    'Gradient Boosting': GradientBoostingClassifier()\n",
    "}\n",
    "\n",
    "# Initialize dictionary to store model accuracies\n",
    "accuracies_fs1 = {}\n",
    "\n",
    "for model_name, model in models_fs1.items():\n",
    "    model.fit(X_train_fs1, y_train_fs1)\n",
    "    y_pred_fs1 = model.predict(X_test_fs1)\n",
    "    accuracy_fs1 = accuracy_score(y_test_fs1, y_pred_fs1)\n",
    "    accuracies_fs1[model_name] = accuracy_fs1\n",
    "\n",
    "# Print model accuracies for Feature Set 1\n",
    "print(\"Model Accuracies for Feature Set 1:\")\n",
    "for model_name, accuracy in accuracies_fs1.items():\n",
    "    print(f\"{model_name}: {accuracy:.4f}\")\n"
   ]
  },
  {
   "cell_type": "code",
   "execution_count": null,
   "metadata": {
    "id": "jaGSWvuD5rH3"
   },
   "outputs": [],
   "source": [
    "#Feature set 2"
   ]
  },
  {
   "cell_type": "code",
   "execution_count": 53,
   "metadata": {
    "colab": {
     "base_uri": "https://localhost:8080/"
    },
    "id": "O1r43x015xgz",
    "outputId": "4e91057f-9029-4a79-b936-609a92bac899"
   },
   "outputs": [
    {
     "name": "stdout",
     "output_type": "stream",
     "text": [
      "\n",
      "Model Accuracies for Feature Set 2 (PCA-reduced Features):\n",
      "Logistic Regression: 0.8768\n",
      "Random Forest: 0.6232\n",
      "Gradient Boosting: 0.7391\n"
     ]
    }
   ],
   "source": [
    "# Step 1: Use PCA-reduced features\n",
    "X_fs2 = X_pca  # Assuming X_pca is obtained from PCA for Feature Set 2\n",
    "y_fs2 = DNA_metadata['Disease State']  # or 'Age' depending on the target variable\n",
    "\n",
    "# Step 2: Split data into train and test sets (using the same split as Feature Set 1)\n",
    "X_train_fs2, X_test_fs2, y_train_fs2, y_test_fs2 = train_test_split(X_fs2, y_fs2, test_size=0.2, random_state=42)\n",
    "\n",
    "# Step 3: Train machine learning models (same models as Feature Set 1)\n",
    "models_fs2 = {\n",
    "    'Logistic Regression': LogisticRegression(max_iter=1000),\n",
    "    'Random Forest': RandomForestClassifier(),\n",
    "    'Gradient Boosting': GradientBoostingClassifier()\n",
    "}\n",
    "\n",
    "# Initialize dictionary to store model accuracies\n",
    "accuracies_fs2 = {}\n",
    "\n",
    "for model_name, model in models_fs2.items():\n",
    "    model.fit(X_train_fs2, y_train_fs2)\n",
    "    y_pred_fs2 = model.predict(X_test_fs2)\n",
    "    accuracy_fs2 = accuracy_score(y_test_fs2, y_pred_fs2)\n",
    "    accuracies_fs2[model_name] = accuracy_fs2\n",
    "\n",
    "# Print model accuracies for Feature Set 2\n",
    "print(\"\\nModel Accuracies for Feature Set 2 (PCA-reduced Features):\")\n",
    "for model_name, accuracy in accuracies_fs2.items():\n",
    "    print(f\"{model_name}: {accuracy:.4f}\")\n"
   ]
  },
  {
   "cell_type": "code",
   "execution_count": null,
   "metadata": {
    "id": "aeEo8MTR575U"
   },
   "outputs": [],
   "source": [
    "# Compare model performance between Feature Set 1 and Feature Set 2"
   ]
  },
  {
   "cell_type": "code",
   "execution_count": 54,
   "metadata": {
    "colab": {
     "base_uri": "https://localhost:8080/"
    },
    "id": "vnONg74c6Bgu",
    "outputId": "e6eb6022-dac3-4e3e-a259-5a36446ca18a"
   },
   "outputs": [
    {
     "name": "stdout",
     "output_type": "stream",
     "text": [
      "\n",
      "Comparison of Model Performances:\n",
      "Logistic Regression:\n",
      "  Feature Set 1 Accuracy: 0.8768\n",
      "  Feature Set 2 Accuracy: 0.8768\n",
      "\n",
      "Random Forest:\n",
      "  Feature Set 1 Accuracy: 0.7971\n",
      "  Feature Set 2 Accuracy: 0.6232\n",
      "\n",
      "Gradient Boosting:\n",
      "  Feature Set 1 Accuracy: 0.8261\n",
      "  Feature Set 2 Accuracy: 0.7391\n",
      "\n"
     ]
    }
   ],
   "source": [
    "\n",
    "print(\"\\nComparison of Model Performances:\")\n",
    "for model_name in models_fs1.keys():\n",
    "    print(f\"{model_name}:\")\n",
    "    print(f\"  Feature Set 1 Accuracy: {accuracies_fs1[model_name]:.4f}\")\n",
    "    print(f\"  Feature Set 2 Accuracy: {accuracies_fs2[model_name]:.4f}\")\n",
    "    print()\n"
   ]
  },
  {
   "cell_type": "markdown",
   "metadata": {
    "id": "Ubw2Oum-6UYq"
   },
   "source": [
    "Q. No. 4 Data Visualization:\n",
    "Implement meaningful data visualization techniques to enhance understanding and insight.\n"
   ]
  },
  {
   "cell_type": "code",
   "execution_count": 63,
   "metadata": {
    "colab": {
     "base_uri": "https://localhost:8080/",
     "height": 564
    },
    "id": "074FF73B6Rlq",
    "outputId": "2ff8379c-6da4-4f3d-cb10-968327f5db95"
   },
   "outputs": [
    {
     "data": {
      "image/png": "[encoded data removed]",
      "text/plain": [
       "<Figure size 800x600 with 1 Axes>"
      ]
     },
     "metadata": {},
     "output_type": "display_data"
    }
   ],
   "source": [
    "# Example: Plot distribution of gene expression values for the first 'cg' feature\n",
    "plt.figure(figsize=(8, 6))\n",
    "sns.histplot(DNA_data[cg_features].iloc[:, 0], bins=20, kde=True)\n",
    "plt.title(\"Distribution of 'cg' Feature Values (Sample 1)\")\n",
    "plt.xlabel(\"'cg' Feature Value\")\n",
    "plt.ylabel(\"Frequency\")\n",
    "plt.show()"
   ]
  },
  {
   "cell_type": "code",
   "execution_count": 64,
   "metadata": {
    "colab": {
     "base_uri": "https://localhost:8080/",
     "height": 659
    },
    "id": "B-ruRlr1ALtW",
    "outputId": "871edddd-ed2f-4992-e291-35e65e37ad70"
   },
   "outputs": [
    {
     "data": {
      "image/png": "[encoded data removed]",
      "text/plain": [
       "<Figure size 1000x600 with 1 Axes>"
      ]
     },
     "metadata": {},
     "output_type": "display_data"
    }
   ],
   "source": [
    "# Example: Visualize relationship between 'cg' features and 'Disease Status' or 'Age'\n",
    "if 'Disease State' in DNA_metadata:\n",
    "    # Box plot of 'cg' features across different disease status\n",
    "    plt.figure(figsize=(10, 6))\n",
    "    sns.boxplot(x=DNA_metadata['Disease State'], y=DNA_data[cg_features].iloc[:, 0])\n",
    "    plt.title(\"'cg' Features Across Different Disease Status\")\n",
    "    plt.xlabel(\"Disease Status\")\n",
    "    plt.ylabel(\"'cg' Feature Value\")\n",
    "    plt.xticks(rotation=45)\n",
    "    plt.show()\n"
   ]
  },
  {
   "cell_type": "code",
   "execution_count": 65,
   "metadata": {
    "colab": {
     "base_uri": "https://localhost:8080/",
     "height": 333
    },
    "id": "K7nZ1yAmAUnn",
    "outputId": "6922b261-c62f-48c9-aebe-3f4b13bb08ec"
   },
   "outputs": [
    {
     "data": {
      "image/png": "[encoded data removed]",
      "text/plain": [
       "<Figure size 2000x600 with 1 Axes>"
      ]
     },
     "metadata": {},
     "output_type": "display_data"
    }
   ],
   "source": [
    "if 'Age' in DNA_metadata:\n",
    "    # Scatter plot of 'cg' features against age\n",
    "    plt.figure(figsize=(20, 6))\n",
    "    sns.scatterplot(x=DNA_metadata['Age'], y=DNA_data[cg_features].iloc[:, 0])\n",
    "    plt.title(\"'cg' Feature vs. Age\")\n",
    "    plt.xlabel(\"Age\")\n",
    "    plt.ylabel(\"'cg' Feature Value\")\n",
    "    plt.show()\n"
   ]
  },
  {
   "cell_type": "markdown",
   "metadata": {},
   "source": [
    "Through the use of feature selection, dimensionality reduction, model training, hyperparameter tuning, and visualisation, this project showcases a thorough approach to DNA data analysis and machine learning. The project's goal is to use complicated DNA datasets to generate predictive models and insightful information.\n",
    "\n",
    "In light of project objectives and domain requirements, think about improving particular areas, such as feature engineering, deployment strategies, and model selection, for future development.\n",
    "\n",
    "Drawing from the available data, this synopsis encapsulates the principal features and goals of the undertaking. Please do not hesitate to ask for clarification or additional help if you have any specific questions or require more information on any aspect of the project!\n"
   ]
  }
 ],
 "metadata": {
  "colab": {
   "provenance": []
  },
  "kernelspec": {
   "display_name": "Python 3 (ipykernel)",
   "language": "python",
   "name": "python3"
  },
  "language_info": {
   "codemirror_mode": {
    "name": "ipython",
    "version": 3
   },
   "file_extension": ".py",
   "mimetype": "text/x-python",
   "name": "python",
   "nbconvert_exporter": "python",
   "pygments_lexer": "ipython3",
   "version": "3.9.12"
  }
 },
 "nbformat": 4,
 "nbformat_minor": 4
}
